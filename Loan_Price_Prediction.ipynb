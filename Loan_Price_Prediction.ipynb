{
 "cells": [
  {
   "cell_type": "code",
   "execution_count": 286,
   "metadata": {},
   "outputs": [],
   "source": [
    "import pandas as pd\n",
    "import numpy as np\n",
    "import matplotlib.pyplot as plt\n",
    "import seaborn as sns"
   ]
  },
  {
   "cell_type": "code",
   "execution_count": 287,
   "metadata": {},
   "outputs": [],
   "source": [
    "x_train = pd.read_csv(\"train_fNxu4vz.csv\")\n",
    "x_test = pd.read_csv(\"test_fjtUOL8.csv\")"
   ]
  },
  {
   "cell_type": "code",
   "execution_count": 288,
   "metadata": {},
   "outputs": [
    {
     "data": {
      "text/plain": [
       "((164309, 14), (109541, 13))"
      ]
     },
     "execution_count": 288,
     "metadata": {},
     "output_type": "execute_result"
    }
   ],
   "source": [
    "x_train.shape,x_test.shape"
   ]
  },
  {
   "cell_type": "code",
   "execution_count": 289,
   "metadata": {},
   "outputs": [
    {
     "data": {
      "text/html": [
       "<div>\n",
       "<style scoped>\n",
       "    .dataframe tbody tr th:only-of-type {\n",
       "        vertical-align: middle;\n",
       "    }\n",
       "\n",
       "    .dataframe tbody tr th {\n",
       "        vertical-align: top;\n",
       "    }\n",
       "\n",
       "    .dataframe thead th {\n",
       "        text-align: right;\n",
       "    }\n",
       "</style>\n",
       "<table border=\"1\" class=\"dataframe\">\n",
       "  <thead>\n",
       "    <tr style=\"text-align: right;\">\n",
       "      <th></th>\n",
       "      <th>Loan_ID</th>\n",
       "      <th>Loan_Amount_Requested</th>\n",
       "      <th>Length_Employed</th>\n",
       "      <th>Home_Owner</th>\n",
       "      <th>Annual_Income</th>\n",
       "      <th>Income_Verified</th>\n",
       "      <th>Purpose_Of_Loan</th>\n",
       "      <th>Debt_To_Income</th>\n",
       "      <th>Inquiries_Last_6Mo</th>\n",
       "      <th>Months_Since_Deliquency</th>\n",
       "      <th>Number_Open_Accounts</th>\n",
       "      <th>Total_Accounts</th>\n",
       "      <th>Gender</th>\n",
       "      <th>Interest_Rate</th>\n",
       "    </tr>\n",
       "  </thead>\n",
       "  <tbody>\n",
       "    <tr>\n",
       "      <th>0</th>\n",
       "      <td>10000001</td>\n",
       "      <td>7,000</td>\n",
       "      <td>&lt; 1 year</td>\n",
       "      <td>Rent</td>\n",
       "      <td>68000.0</td>\n",
       "      <td>not verified</td>\n",
       "      <td>car</td>\n",
       "      <td>18.37</td>\n",
       "      <td>0</td>\n",
       "      <td>NaN</td>\n",
       "      <td>9</td>\n",
       "      <td>14</td>\n",
       "      <td>Female</td>\n",
       "      <td>1</td>\n",
       "    </tr>\n",
       "    <tr>\n",
       "      <th>1</th>\n",
       "      <td>10000002</td>\n",
       "      <td>30,000</td>\n",
       "      <td>4 years</td>\n",
       "      <td>Mortgage</td>\n",
       "      <td>NaN</td>\n",
       "      <td>VERIFIED - income</td>\n",
       "      <td>debt_consolidation</td>\n",
       "      <td>14.93</td>\n",
       "      <td>0</td>\n",
       "      <td>17.0</td>\n",
       "      <td>12</td>\n",
       "      <td>24</td>\n",
       "      <td>Female</td>\n",
       "      <td>3</td>\n",
       "    </tr>\n",
       "    <tr>\n",
       "      <th>2</th>\n",
       "      <td>10000003</td>\n",
       "      <td>24,725</td>\n",
       "      <td>7 years</td>\n",
       "      <td>Mortgage</td>\n",
       "      <td>75566.4</td>\n",
       "      <td>VERIFIED - income source</td>\n",
       "      <td>debt_consolidation</td>\n",
       "      <td>15.88</td>\n",
       "      <td>0</td>\n",
       "      <td>NaN</td>\n",
       "      <td>12</td>\n",
       "      <td>16</td>\n",
       "      <td>Male</td>\n",
       "      <td>3</td>\n",
       "    </tr>\n",
       "    <tr>\n",
       "      <th>3</th>\n",
       "      <td>10000004</td>\n",
       "      <td>16,000</td>\n",
       "      <td>&lt; 1 year</td>\n",
       "      <td>NaN</td>\n",
       "      <td>56160.0</td>\n",
       "      <td>VERIFIED - income source</td>\n",
       "      <td>debt_consolidation</td>\n",
       "      <td>14.34</td>\n",
       "      <td>3</td>\n",
       "      <td>NaN</td>\n",
       "      <td>16</td>\n",
       "      <td>22</td>\n",
       "      <td>Male</td>\n",
       "      <td>3</td>\n",
       "    </tr>\n",
       "    <tr>\n",
       "      <th>4</th>\n",
       "      <td>10000005</td>\n",
       "      <td>17,000</td>\n",
       "      <td>8 years</td>\n",
       "      <td>Own</td>\n",
       "      <td>96000.0</td>\n",
       "      <td>VERIFIED - income source</td>\n",
       "      <td>debt_consolidation</td>\n",
       "      <td>22.17</td>\n",
       "      <td>1</td>\n",
       "      <td>NaN</td>\n",
       "      <td>19</td>\n",
       "      <td>30</td>\n",
       "      <td>Female</td>\n",
       "      <td>1</td>\n",
       "    </tr>\n",
       "    <tr>\n",
       "      <th>...</th>\n",
       "      <td>...</td>\n",
       "      <td>...</td>\n",
       "      <td>...</td>\n",
       "      <td>...</td>\n",
       "      <td>...</td>\n",
       "      <td>...</td>\n",
       "      <td>...</td>\n",
       "      <td>...</td>\n",
       "      <td>...</td>\n",
       "      <td>...</td>\n",
       "      <td>...</td>\n",
       "      <td>...</td>\n",
       "      <td>...</td>\n",
       "      <td>...</td>\n",
       "    </tr>\n",
       "    <tr>\n",
       "      <th>164304</th>\n",
       "      <td>10164305</td>\n",
       "      <td>20,725</td>\n",
       "      <td>10+ years</td>\n",
       "      <td>Rent</td>\n",
       "      <td>NaN</td>\n",
       "      <td>VERIFIED - income source</td>\n",
       "      <td>credit_card</td>\n",
       "      <td>13.56</td>\n",
       "      <td>0</td>\n",
       "      <td>NaN</td>\n",
       "      <td>13</td>\n",
       "      <td>16</td>\n",
       "      <td>Male</td>\n",
       "      <td>2</td>\n",
       "    </tr>\n",
       "    <tr>\n",
       "      <th>164305</th>\n",
       "      <td>10164306</td>\n",
       "      <td>6,000</td>\n",
       "      <td>8 years</td>\n",
       "      <td>Own</td>\n",
       "      <td>NaN</td>\n",
       "      <td>VERIFIED - income source</td>\n",
       "      <td>small_business</td>\n",
       "      <td>9.12</td>\n",
       "      <td>0</td>\n",
       "      <td>36.0</td>\n",
       "      <td>13</td>\n",
       "      <td>30</td>\n",
       "      <td>Male</td>\n",
       "      <td>2</td>\n",
       "    </tr>\n",
       "    <tr>\n",
       "      <th>164306</th>\n",
       "      <td>10164307</td>\n",
       "      <td>20,250</td>\n",
       "      <td>10+ years</td>\n",
       "      <td>Mortgage</td>\n",
       "      <td>NaN</td>\n",
       "      <td>VERIFIED - income</td>\n",
       "      <td>credit_card</td>\n",
       "      <td>18.17</td>\n",
       "      <td>1</td>\n",
       "      <td>NaN</td>\n",
       "      <td>17</td>\n",
       "      <td>30</td>\n",
       "      <td>Male</td>\n",
       "      <td>1</td>\n",
       "    </tr>\n",
       "    <tr>\n",
       "      <th>164307</th>\n",
       "      <td>10164308</td>\n",
       "      <td>10,000</td>\n",
       "      <td>4 years</td>\n",
       "      <td>Rent</td>\n",
       "      <td>NaN</td>\n",
       "      <td>not verified</td>\n",
       "      <td>major_purchase</td>\n",
       "      <td>18.75</td>\n",
       "      <td>1</td>\n",
       "      <td>48.0</td>\n",
       "      <td>16</td>\n",
       "      <td>62</td>\n",
       "      <td>Female</td>\n",
       "      <td>3</td>\n",
       "    </tr>\n",
       "    <tr>\n",
       "      <th>164308</th>\n",
       "      <td>10164309</td>\n",
       "      <td>9,250</td>\n",
       "      <td>10+ years</td>\n",
       "      <td>Rent</td>\n",
       "      <td>NaN</td>\n",
       "      <td>VERIFIED - income</td>\n",
       "      <td>credit_card</td>\n",
       "      <td>19.44</td>\n",
       "      <td>1</td>\n",
       "      <td>NaN</td>\n",
       "      <td>5</td>\n",
       "      <td>9</td>\n",
       "      <td>Female</td>\n",
       "      <td>2</td>\n",
       "    </tr>\n",
       "  </tbody>\n",
       "</table>\n",
       "<p>164309 rows × 14 columns</p>\n",
       "</div>"
      ],
      "text/plain": [
       "         Loan_ID Loan_Amount_Requested Length_Employed Home_Owner  \\\n",
       "0       10000001                 7,000        < 1 year       Rent   \n",
       "1       10000002                30,000         4 years   Mortgage   \n",
       "2       10000003                24,725         7 years   Mortgage   \n",
       "3       10000004                16,000        < 1 year        NaN   \n",
       "4       10000005                17,000         8 years        Own   \n",
       "...          ...                   ...             ...        ...   \n",
       "164304  10164305                20,725       10+ years       Rent   \n",
       "164305  10164306                 6,000         8 years        Own   \n",
       "164306  10164307                20,250       10+ years   Mortgage   \n",
       "164307  10164308                10,000         4 years       Rent   \n",
       "164308  10164309                 9,250       10+ years       Rent   \n",
       "\n",
       "        Annual_Income           Income_Verified     Purpose_Of_Loan  \\\n",
       "0             68000.0              not verified                 car   \n",
       "1                 NaN         VERIFIED - income  debt_consolidation   \n",
       "2             75566.4  VERIFIED - income source  debt_consolidation   \n",
       "3             56160.0  VERIFIED - income source  debt_consolidation   \n",
       "4             96000.0  VERIFIED - income source  debt_consolidation   \n",
       "...               ...                       ...                 ...   \n",
       "164304            NaN  VERIFIED - income source         credit_card   \n",
       "164305            NaN  VERIFIED - income source      small_business   \n",
       "164306            NaN         VERIFIED - income         credit_card   \n",
       "164307            NaN              not verified      major_purchase   \n",
       "164308            NaN         VERIFIED - income         credit_card   \n",
       "\n",
       "        Debt_To_Income  Inquiries_Last_6Mo  Months_Since_Deliquency  \\\n",
       "0                18.37                   0                      NaN   \n",
       "1                14.93                   0                     17.0   \n",
       "2                15.88                   0                      NaN   \n",
       "3                14.34                   3                      NaN   \n",
       "4                22.17                   1                      NaN   \n",
       "...                ...                 ...                      ...   \n",
       "164304           13.56                   0                      NaN   \n",
       "164305            9.12                   0                     36.0   \n",
       "164306           18.17                   1                      NaN   \n",
       "164307           18.75                   1                     48.0   \n",
       "164308           19.44                   1                      NaN   \n",
       "\n",
       "        Number_Open_Accounts  Total_Accounts  Gender  Interest_Rate  \n",
       "0                          9              14  Female              1  \n",
       "1                         12              24  Female              3  \n",
       "2                         12              16    Male              3  \n",
       "3                         16              22    Male              3  \n",
       "4                         19              30  Female              1  \n",
       "...                      ...             ...     ...            ...  \n",
       "164304                    13              16    Male              2  \n",
       "164305                    13              30    Male              2  \n",
       "164306                    17              30    Male              1  \n",
       "164307                    16              62  Female              3  \n",
       "164308                     5               9  Female              2  \n",
       "\n",
       "[164309 rows x 14 columns]"
      ]
     },
     "execution_count": 289,
     "metadata": {},
     "output_type": "execute_result"
    }
   ],
   "source": [
    "x_train"
   ]
  },
  {
   "cell_type": "code",
   "execution_count": 290,
   "metadata": {},
   "outputs": [],
   "source": [
    "y_train = x_train[\"Interest_Rate\"]\n",
    "x_train.drop(columns = [\"Interest_Rate\"],inplace=True)"
   ]
  },
  {
   "cell_type": "code",
   "execution_count": 291,
   "metadata": {},
   "outputs": [],
   "source": [
    "x_train.drop(columns=[\"Loan_ID\"],inplace=True)\n",
    "x_test.drop(columns=[\"Loan_ID\"],inplace=True)"
   ]
  },
  {
   "cell_type": "code",
   "execution_count": 292,
   "metadata": {},
   "outputs": [
    {
     "data": {
      "text/html": [
       "<div>\n",
       "<style scoped>\n",
       "    .dataframe tbody tr th:only-of-type {\n",
       "        vertical-align: middle;\n",
       "    }\n",
       "\n",
       "    .dataframe tbody tr th {\n",
       "        vertical-align: top;\n",
       "    }\n",
       "\n",
       "    .dataframe thead th {\n",
       "        text-align: right;\n",
       "    }\n",
       "</style>\n",
       "<table border=\"1\" class=\"dataframe\">\n",
       "  <thead>\n",
       "    <tr style=\"text-align: right;\">\n",
       "      <th></th>\n",
       "      <th>Loan_Amount_Requested</th>\n",
       "      <th>Length_Employed</th>\n",
       "      <th>Home_Owner</th>\n",
       "      <th>Annual_Income</th>\n",
       "      <th>Income_Verified</th>\n",
       "      <th>Purpose_Of_Loan</th>\n",
       "      <th>Debt_To_Income</th>\n",
       "      <th>Inquiries_Last_6Mo</th>\n",
       "      <th>Months_Since_Deliquency</th>\n",
       "      <th>Number_Open_Accounts</th>\n",
       "      <th>Total_Accounts</th>\n",
       "      <th>Gender</th>\n",
       "    </tr>\n",
       "  </thead>\n",
       "  <tbody>\n",
       "    <tr>\n",
       "      <th>0</th>\n",
       "      <td>7,000</td>\n",
       "      <td>&lt; 1 year</td>\n",
       "      <td>Rent</td>\n",
       "      <td>68000.0</td>\n",
       "      <td>not verified</td>\n",
       "      <td>car</td>\n",
       "      <td>18.37</td>\n",
       "      <td>0</td>\n",
       "      <td>NaN</td>\n",
       "      <td>9</td>\n",
       "      <td>14</td>\n",
       "      <td>Female</td>\n",
       "    </tr>\n",
       "    <tr>\n",
       "      <th>1</th>\n",
       "      <td>30,000</td>\n",
       "      <td>4 years</td>\n",
       "      <td>Mortgage</td>\n",
       "      <td>NaN</td>\n",
       "      <td>VERIFIED - income</td>\n",
       "      <td>debt_consolidation</td>\n",
       "      <td>14.93</td>\n",
       "      <td>0</td>\n",
       "      <td>17.0</td>\n",
       "      <td>12</td>\n",
       "      <td>24</td>\n",
       "      <td>Female</td>\n",
       "    </tr>\n",
       "    <tr>\n",
       "      <th>2</th>\n",
       "      <td>24,725</td>\n",
       "      <td>7 years</td>\n",
       "      <td>Mortgage</td>\n",
       "      <td>75566.4</td>\n",
       "      <td>VERIFIED - income source</td>\n",
       "      <td>debt_consolidation</td>\n",
       "      <td>15.88</td>\n",
       "      <td>0</td>\n",
       "      <td>NaN</td>\n",
       "      <td>12</td>\n",
       "      <td>16</td>\n",
       "      <td>Male</td>\n",
       "    </tr>\n",
       "    <tr>\n",
       "      <th>3</th>\n",
       "      <td>16,000</td>\n",
       "      <td>&lt; 1 year</td>\n",
       "      <td>NaN</td>\n",
       "      <td>56160.0</td>\n",
       "      <td>VERIFIED - income source</td>\n",
       "      <td>debt_consolidation</td>\n",
       "      <td>14.34</td>\n",
       "      <td>3</td>\n",
       "      <td>NaN</td>\n",
       "      <td>16</td>\n",
       "      <td>22</td>\n",
       "      <td>Male</td>\n",
       "    </tr>\n",
       "    <tr>\n",
       "      <th>4</th>\n",
       "      <td>17,000</td>\n",
       "      <td>8 years</td>\n",
       "      <td>Own</td>\n",
       "      <td>96000.0</td>\n",
       "      <td>VERIFIED - income source</td>\n",
       "      <td>debt_consolidation</td>\n",
       "      <td>22.17</td>\n",
       "      <td>1</td>\n",
       "      <td>NaN</td>\n",
       "      <td>19</td>\n",
       "      <td>30</td>\n",
       "      <td>Female</td>\n",
       "    </tr>\n",
       "    <tr>\n",
       "      <th>...</th>\n",
       "      <td>...</td>\n",
       "      <td>...</td>\n",
       "      <td>...</td>\n",
       "      <td>...</td>\n",
       "      <td>...</td>\n",
       "      <td>...</td>\n",
       "      <td>...</td>\n",
       "      <td>...</td>\n",
       "      <td>...</td>\n",
       "      <td>...</td>\n",
       "      <td>...</td>\n",
       "      <td>...</td>\n",
       "    </tr>\n",
       "    <tr>\n",
       "      <th>164304</th>\n",
       "      <td>20,725</td>\n",
       "      <td>10+ years</td>\n",
       "      <td>Rent</td>\n",
       "      <td>NaN</td>\n",
       "      <td>VERIFIED - income source</td>\n",
       "      <td>credit_card</td>\n",
       "      <td>13.56</td>\n",
       "      <td>0</td>\n",
       "      <td>NaN</td>\n",
       "      <td>13</td>\n",
       "      <td>16</td>\n",
       "      <td>Male</td>\n",
       "    </tr>\n",
       "    <tr>\n",
       "      <th>164305</th>\n",
       "      <td>6,000</td>\n",
       "      <td>8 years</td>\n",
       "      <td>Own</td>\n",
       "      <td>NaN</td>\n",
       "      <td>VERIFIED - income source</td>\n",
       "      <td>small_business</td>\n",
       "      <td>9.12</td>\n",
       "      <td>0</td>\n",
       "      <td>36.0</td>\n",
       "      <td>13</td>\n",
       "      <td>30</td>\n",
       "      <td>Male</td>\n",
       "    </tr>\n",
       "    <tr>\n",
       "      <th>164306</th>\n",
       "      <td>20,250</td>\n",
       "      <td>10+ years</td>\n",
       "      <td>Mortgage</td>\n",
       "      <td>NaN</td>\n",
       "      <td>VERIFIED - income</td>\n",
       "      <td>credit_card</td>\n",
       "      <td>18.17</td>\n",
       "      <td>1</td>\n",
       "      <td>NaN</td>\n",
       "      <td>17</td>\n",
       "      <td>30</td>\n",
       "      <td>Male</td>\n",
       "    </tr>\n",
       "    <tr>\n",
       "      <th>164307</th>\n",
       "      <td>10,000</td>\n",
       "      <td>4 years</td>\n",
       "      <td>Rent</td>\n",
       "      <td>NaN</td>\n",
       "      <td>not verified</td>\n",
       "      <td>major_purchase</td>\n",
       "      <td>18.75</td>\n",
       "      <td>1</td>\n",
       "      <td>48.0</td>\n",
       "      <td>16</td>\n",
       "      <td>62</td>\n",
       "      <td>Female</td>\n",
       "    </tr>\n",
       "    <tr>\n",
       "      <th>164308</th>\n",
       "      <td>9,250</td>\n",
       "      <td>10+ years</td>\n",
       "      <td>Rent</td>\n",
       "      <td>NaN</td>\n",
       "      <td>VERIFIED - income</td>\n",
       "      <td>credit_card</td>\n",
       "      <td>19.44</td>\n",
       "      <td>1</td>\n",
       "      <td>NaN</td>\n",
       "      <td>5</td>\n",
       "      <td>9</td>\n",
       "      <td>Female</td>\n",
       "    </tr>\n",
       "  </tbody>\n",
       "</table>\n",
       "<p>164309 rows × 12 columns</p>\n",
       "</div>"
      ],
      "text/plain": [
       "       Loan_Amount_Requested Length_Employed Home_Owner  Annual_Income  \\\n",
       "0                      7,000        < 1 year       Rent        68000.0   \n",
       "1                     30,000         4 years   Mortgage            NaN   \n",
       "2                     24,725         7 years   Mortgage        75566.4   \n",
       "3                     16,000        < 1 year        NaN        56160.0   \n",
       "4                     17,000         8 years        Own        96000.0   \n",
       "...                      ...             ...        ...            ...   \n",
       "164304                20,725       10+ years       Rent            NaN   \n",
       "164305                 6,000         8 years        Own            NaN   \n",
       "164306                20,250       10+ years   Mortgage            NaN   \n",
       "164307                10,000         4 years       Rent            NaN   \n",
       "164308                 9,250       10+ years       Rent            NaN   \n",
       "\n",
       "                 Income_Verified     Purpose_Of_Loan  Debt_To_Income  \\\n",
       "0                   not verified                 car           18.37   \n",
       "1              VERIFIED - income  debt_consolidation           14.93   \n",
       "2       VERIFIED - income source  debt_consolidation           15.88   \n",
       "3       VERIFIED - income source  debt_consolidation           14.34   \n",
       "4       VERIFIED - income source  debt_consolidation           22.17   \n",
       "...                          ...                 ...             ...   \n",
       "164304  VERIFIED - income source         credit_card           13.56   \n",
       "164305  VERIFIED - income source      small_business            9.12   \n",
       "164306         VERIFIED - income         credit_card           18.17   \n",
       "164307              not verified      major_purchase           18.75   \n",
       "164308         VERIFIED - income         credit_card           19.44   \n",
       "\n",
       "        Inquiries_Last_6Mo  Months_Since_Deliquency  Number_Open_Accounts  \\\n",
       "0                        0                      NaN                     9   \n",
       "1                        0                     17.0                    12   \n",
       "2                        0                      NaN                    12   \n",
       "3                        3                      NaN                    16   \n",
       "4                        1                      NaN                    19   \n",
       "...                    ...                      ...                   ...   \n",
       "164304                   0                      NaN                    13   \n",
       "164305                   0                     36.0                    13   \n",
       "164306                   1                      NaN                    17   \n",
       "164307                   1                     48.0                    16   \n",
       "164308                   1                      NaN                     5   \n",
       "\n",
       "        Total_Accounts  Gender  \n",
       "0                   14  Female  \n",
       "1                   24  Female  \n",
       "2                   16    Male  \n",
       "3                   22    Male  \n",
       "4                   30  Female  \n",
       "...                ...     ...  \n",
       "164304              16    Male  \n",
       "164305              30    Male  \n",
       "164306              30    Male  \n",
       "164307              62  Female  \n",
       "164308               9  Female  \n",
       "\n",
       "[164309 rows x 12 columns]"
      ]
     },
     "execution_count": 292,
     "metadata": {},
     "output_type": "execute_result"
    }
   ],
   "source": [
    "x_train"
   ]
  },
  {
   "cell_type": "code",
   "execution_count": 293,
   "metadata": {},
   "outputs": [
    {
     "data": {
      "text/plain": [
       "Loan_Amount_Requested          0\n",
       "Length_Employed             7371\n",
       "Home_Owner                 25349\n",
       "Annual_Income              25102\n",
       "Income_Verified                0\n",
       "Purpose_Of_Loan                0\n",
       "Debt_To_Income                 0\n",
       "Inquiries_Last_6Mo             0\n",
       "Months_Since_Deliquency    88379\n",
       "Number_Open_Accounts           0\n",
       "Total_Accounts                 0\n",
       "Gender                         0\n",
       "dtype: int64"
      ]
     },
     "execution_count": 293,
     "metadata": {},
     "output_type": "execute_result"
    }
   ],
   "source": [
    "x_train.isnull().sum()"
   ]
  },
  {
   "cell_type": "code",
   "execution_count": 294,
   "metadata": {},
   "outputs": [
    {
     "data": {
      "text/plain": [
       "Loan_Amount_Requested          0\n",
       "Length_Employed             4936\n",
       "Home_Owner                 16711\n",
       "Annual_Income              16898\n",
       "Income_Verified                0\n",
       "Purpose_Of_Loan                0\n",
       "Debt_To_Income                 0\n",
       "Inquiries_Last_6Mo             0\n",
       "Months_Since_Deliquency    58859\n",
       "Number_Open_Accounts           0\n",
       "Total_Accounts                 0\n",
       "Gender                         0\n",
       "dtype: int64"
      ]
     },
     "execution_count": 294,
     "metadata": {},
     "output_type": "execute_result"
    }
   ],
   "source": [
    "x_test.isnull().sum()"
   ]
  },
  {
   "cell_type": "code",
   "execution_count": 295,
   "metadata": {},
   "outputs": [],
   "source": [
    "col = np.array(x_train[\"Home_Owner\"])"
   ]
  },
  {
   "cell_type": "code",
   "execution_count": 296,
   "metadata": {},
   "outputs": [
    {
     "data": {
      "text/plain": [
       "(164309,)"
      ]
     },
     "execution_count": 296,
     "metadata": {},
     "output_type": "execute_result"
    }
   ],
   "source": [
    "col.shape"
   ]
  },
  {
   "cell_type": "markdown",
   "metadata": {},
   "source": [
    "# Checking For Uniqueness"
   ]
  },
  {
   "cell_type": "code",
   "execution_count": 297,
   "metadata": {},
   "outputs": [
    {
     "data": {
      "text/plain": [
       "array(['Rent', 'Mortgage', nan, 'Own', 'Other', 'None'], dtype=object)"
      ]
     },
     "execution_count": 297,
     "metadata": {},
     "output_type": "execute_result"
    }
   ],
   "source": [
    "x_train[\"Home_Owner\"].unique()"
   ]
  },
  {
   "cell_type": "code",
   "execution_count": 298,
   "metadata": {},
   "outputs": [
    {
     "data": {
      "text/plain": [
       "10+ years    52915\n",
       "2 years      14620\n",
       "3 years      12974\n",
       "< 1 year     12805\n",
       "5 years      10814\n",
       "1 year       10422\n",
       "4 years       9784\n",
       "7 years       9308\n",
       "6 years       9094\n",
       "8 years       7917\n",
       "9 years       6285\n",
       "Name: Length_Employed, dtype: int64"
      ]
     },
     "execution_count": 298,
     "metadata": {},
     "output_type": "execute_result"
    }
   ],
   "source": [
    "x_train[\"Length_Employed\"].value_counts()"
   ]
  },
  {
   "cell_type": "code",
   "execution_count": 299,
   "metadata": {},
   "outputs": [
    {
     "data": {
      "text/plain": [
       "Mortgage    70345\n",
       "Rent        56031\n",
       "Own         12525\n",
       "Other          49\n",
       "None           10\n",
       "Name: Home_Owner, dtype: int64"
      ]
     },
     "execution_count": 299,
     "metadata": {},
     "output_type": "execute_result"
    }
   ],
   "source": [
    "x_train[\"Home_Owner\"].value_counts()"
   ]
  },
  {
   "cell_type": "code",
   "execution_count": null,
   "metadata": {},
   "outputs": [],
   "source": []
  },
  {
   "cell_type": "markdown",
   "metadata": {},
   "source": [
    "# Filling NAN Values"
   ]
  },
  {
   "cell_type": "code",
   "execution_count": 300,
   "metadata": {},
   "outputs": [],
   "source": [
    "x_train[\"Length_Employed\"].fillna(\"10+ years\",inplace=True)\n",
    "x_test[\"Length_Employed\"].fillna(\"10+ years\",inplace=True)"
   ]
  },
  {
   "cell_type": "code",
   "execution_count": 301,
   "metadata": {},
   "outputs": [],
   "source": [
    "x_train[\"Home_Owner\"].fillna(\"NAN\",inplace=True)\n",
    "x_test[\"Home_Owner\"].fillna(\"NAN\",inplace=True)"
   ]
  },
  {
   "cell_type": "markdown",
   "metadata": {},
   "source": [
    "# Filling NAN Values Using Function"
   ]
  },
  {
   "cell_type": "code",
   "execution_count": 302,
   "metadata": {},
   "outputs": [],
   "source": [
    "group_train = x_train.groupby(\"Length_Employed\")\n",
    "group_test = x_test.groupby(\"Length_Employed\")"
   ]
  },
  {
   "cell_type": "code",
   "execution_count": 303,
   "metadata": {},
   "outputs": [],
   "source": [
    "def func(x):\n",
    "    print(\"Mean of this Length_Emplyed\", x.mean())\n",
    "    return x.fillna(x.mean())"
   ]
  },
  {
   "cell_type": "code",
   "execution_count": 304,
   "metadata": {},
   "outputs": [
    {
     "name": "stdout",
     "output_type": "stream",
     "text": [
      "Mean of this Length_Emplyed 69486.85781402198\n",
      "Mean of this Length_Emplyed 76717.30485088802\n",
      "Mean of this Length_Emplyed 70832.59065371595\n",
      "Mean of this Length_Emplyed 72395.39474922487\n",
      "Mean of this Length_Emplyed 71150.55752044253\n",
      "Mean of this Length_Emplyed 71704.91774737302\n",
      "Mean of this Length_Emplyed 72043.15529464862\n",
      "Mean of this Length_Emplyed 72690.15270495952\n",
      "Mean of this Length_Emplyed 74645.17463132602\n",
      "Mean of this Length_Emplyed 73860.3171714124\n",
      "Mean of this Length_Emplyed 67694.48663199558\n",
      "Mean of this Length_Emplyed 68749.23073845096\n",
      "Mean of this Length_Emplyed 76182.2082814654\n",
      "Mean of this Length_Emplyed 71765.34031113802\n",
      "Mean of this Length_Emplyed 71291.29817815454\n",
      "Mean of this Length_Emplyed 71135.61014585556\n",
      "Mean of this Length_Emplyed 73856.09360195759\n",
      "Mean of this Length_Emplyed 72447.41645392748\n",
      "Mean of this Length_Emplyed 74211.70622107478\n",
      "Mean of this Length_Emplyed 74656.08695019332\n",
      "Mean of this Length_Emplyed 76057.10163179917\n",
      "Mean of this Length_Emplyed 68337.64619081575\n"
     ]
    }
   ],
   "source": [
    "x_train[\"Annual_Income\"] = group_train[\"Annual_Income\"].apply(func)\n",
    "x_test[\"Annual_Income\"] = group_test[\"Annual_Income\"].apply(func)"
   ]
  },
  {
   "cell_type": "markdown",
   "metadata": {},
   "source": [
    "# Dropping Columns with more NAN Values"
   ]
  },
  {
   "cell_type": "code",
   "execution_count": 305,
   "metadata": {},
   "outputs": [],
   "source": [
    "# x_train[\"Months_Since_Deliquency\"].fillna(x_train[\"Months_Since_Deliquency\"].mean(),inplace=True)\n",
    "# x_test[\"Months_Since_Deliquency\"].fillna(x_test[\"Months_Since_Deliquency\"].mean(),inplace=True)"
   ]
  },
  {
   "cell_type": "code",
   "execution_count": 306,
   "metadata": {},
   "outputs": [],
   "source": [
    "x_train.drop(columns=[\"Months_Since_Deliquency\"],inplace=True)\n",
    "x_test.drop(columns=[\"Months_Since_Deliquency\"],inplace=True)"
   ]
  },
  {
   "cell_type": "code",
   "execution_count": 307,
   "metadata": {},
   "outputs": [
    {
     "data": {
      "text/plain": [
       "<AxesSubplot:>"
      ]
     },
     "execution_count": 307,
     "metadata": {},
     "output_type": "execute_result"
    },
    {
     "data": {
      "image/png": "[encoded data removed]",
      "text/plain": [
       "<Figure size 1584x720 with 2 Axes>"
      ]
     },
     "metadata": {
      "needs_background": "light"
     },
     "output_type": "display_data"
    }
   ],
   "source": [
    "plt.figure(figsize=(22,10))\n",
    "sns.heatmap(x_train.isnull())"
   ]
  },
  {
   "cell_type": "code",
   "execution_count": 308,
   "metadata": {},
   "outputs": [
    {
     "data": {
      "text/plain": [
       "<AxesSubplot:>"
      ]
     },
     "execution_count": 308,
     "metadata": {},
     "output_type": "execute_result"
    },
    {
     "data": {
      "image/png": "[encoded data removed]",
      "text/plain": [
       "<Figure size 1584x720 with 2 Axes>"
      ]
     },
     "metadata": {
      "needs_background": "light"
     },
     "output_type": "display_data"
    }
   ],
   "source": [
    "plt.figure(figsize=(22,10))\n",
    "sns.heatmap(x_test.isnull())"
   ]
  },
  {
   "cell_type": "code",
   "execution_count": 309,
   "metadata": {},
   "outputs": [
    {
     "data": {
      "text/plain": [
       "((164309, 11), (109541, 11))"
      ]
     },
     "execution_count": 309,
     "metadata": {},
     "output_type": "execute_result"
    }
   ],
   "source": [
    "x_train.shape,x_test.shape"
   ]
  },
  {
   "cell_type": "code",
   "execution_count": 310,
   "metadata": {},
   "outputs": [],
   "source": [
    "train = x_train\n",
    "test = x_test"
   ]
  },
  {
   "cell_type": "markdown",
   "metadata": {},
   "source": [
    "# Catboost With Caategorical Variables"
   ]
  },
  {
   "cell_type": "code",
   "execution_count": 311,
   "metadata": {},
   "outputs": [],
   "source": [
    "from catboost import CatBoostClassifier"
   ]
  },
  {
   "cell_type": "code",
   "execution_count": 312,
   "metadata": {},
   "outputs": [
    {
     "data": {
      "text/html": [
       "<div>\n",
       "<style scoped>\n",
       "    .dataframe tbody tr th:only-of-type {\n",
       "        vertical-align: middle;\n",
       "    }\n",
       "\n",
       "    .dataframe tbody tr th {\n",
       "        vertical-align: top;\n",
       "    }\n",
       "\n",
       "    .dataframe thead th {\n",
       "        text-align: right;\n",
       "    }\n",
       "</style>\n",
       "<table border=\"1\" class=\"dataframe\">\n",
       "  <thead>\n",
       "    <tr style=\"text-align: right;\">\n",
       "      <th></th>\n",
       "      <th>Loan_Amount_Requested</th>\n",
       "      <th>Length_Employed</th>\n",
       "      <th>Home_Owner</th>\n",
       "      <th>Annual_Income</th>\n",
       "      <th>Income_Verified</th>\n",
       "      <th>Purpose_Of_Loan</th>\n",
       "      <th>Debt_To_Income</th>\n",
       "      <th>Inquiries_Last_6Mo</th>\n",
       "      <th>Number_Open_Accounts</th>\n",
       "      <th>Total_Accounts</th>\n",
       "      <th>Gender</th>\n",
       "    </tr>\n",
       "  </thead>\n",
       "  <tbody>\n",
       "    <tr>\n",
       "      <th>0</th>\n",
       "      <td>7,000</td>\n",
       "      <td>&lt; 1 year</td>\n",
       "      <td>Rent</td>\n",
       "      <td>68000.000000</td>\n",
       "      <td>not verified</td>\n",
       "      <td>car</td>\n",
       "      <td>18.37</td>\n",
       "      <td>0</td>\n",
       "      <td>9</td>\n",
       "      <td>14</td>\n",
       "      <td>Female</td>\n",
       "    </tr>\n",
       "    <tr>\n",
       "      <th>1</th>\n",
       "      <td>30,000</td>\n",
       "      <td>4 years</td>\n",
       "      <td>Mortgage</td>\n",
       "      <td>71150.557520</td>\n",
       "      <td>VERIFIED - income</td>\n",
       "      <td>debt_consolidation</td>\n",
       "      <td>14.93</td>\n",
       "      <td>0</td>\n",
       "      <td>12</td>\n",
       "      <td>24</td>\n",
       "      <td>Female</td>\n",
       "    </tr>\n",
       "    <tr>\n",
       "      <th>2</th>\n",
       "      <td>24,725</td>\n",
       "      <td>7 years</td>\n",
       "      <td>Mortgage</td>\n",
       "      <td>75566.400000</td>\n",
       "      <td>VERIFIED - income source</td>\n",
       "      <td>debt_consolidation</td>\n",
       "      <td>15.88</td>\n",
       "      <td>0</td>\n",
       "      <td>12</td>\n",
       "      <td>16</td>\n",
       "      <td>Male</td>\n",
       "    </tr>\n",
       "    <tr>\n",
       "      <th>3</th>\n",
       "      <td>16,000</td>\n",
       "      <td>&lt; 1 year</td>\n",
       "      <td>NAN</td>\n",
       "      <td>56160.000000</td>\n",
       "      <td>VERIFIED - income source</td>\n",
       "      <td>debt_consolidation</td>\n",
       "      <td>14.34</td>\n",
       "      <td>3</td>\n",
       "      <td>16</td>\n",
       "      <td>22</td>\n",
       "      <td>Male</td>\n",
       "    </tr>\n",
       "    <tr>\n",
       "      <th>4</th>\n",
       "      <td>17,000</td>\n",
       "      <td>8 years</td>\n",
       "      <td>Own</td>\n",
       "      <td>96000.000000</td>\n",
       "      <td>VERIFIED - income source</td>\n",
       "      <td>debt_consolidation</td>\n",
       "      <td>22.17</td>\n",
       "      <td>1</td>\n",
       "      <td>19</td>\n",
       "      <td>30</td>\n",
       "      <td>Female</td>\n",
       "    </tr>\n",
       "    <tr>\n",
       "      <th>...</th>\n",
       "      <td>...</td>\n",
       "      <td>...</td>\n",
       "      <td>...</td>\n",
       "      <td>...</td>\n",
       "      <td>...</td>\n",
       "      <td>...</td>\n",
       "      <td>...</td>\n",
       "      <td>...</td>\n",
       "      <td>...</td>\n",
       "      <td>...</td>\n",
       "      <td>...</td>\n",
       "    </tr>\n",
       "    <tr>\n",
       "      <th>164304</th>\n",
       "      <td>20,725</td>\n",
       "      <td>10+ years</td>\n",
       "      <td>Rent</td>\n",
       "      <td>76717.304851</td>\n",
       "      <td>VERIFIED - income source</td>\n",
       "      <td>credit_card</td>\n",
       "      <td>13.56</td>\n",
       "      <td>0</td>\n",
       "      <td>13</td>\n",
       "      <td>16</td>\n",
       "      <td>Male</td>\n",
       "    </tr>\n",
       "    <tr>\n",
       "      <th>164305</th>\n",
       "      <td>6,000</td>\n",
       "      <td>8 years</td>\n",
       "      <td>Own</td>\n",
       "      <td>74645.174631</td>\n",
       "      <td>VERIFIED - income source</td>\n",
       "      <td>small_business</td>\n",
       "      <td>9.12</td>\n",
       "      <td>0</td>\n",
       "      <td>13</td>\n",
       "      <td>30</td>\n",
       "      <td>Male</td>\n",
       "    </tr>\n",
       "    <tr>\n",
       "      <th>164306</th>\n",
       "      <td>20,250</td>\n",
       "      <td>10+ years</td>\n",
       "      <td>Mortgage</td>\n",
       "      <td>76717.304851</td>\n",
       "      <td>VERIFIED - income</td>\n",
       "      <td>credit_card</td>\n",
       "      <td>18.17</td>\n",
       "      <td>1</td>\n",
       "      <td>17</td>\n",
       "      <td>30</td>\n",
       "      <td>Male</td>\n",
       "    </tr>\n",
       "    <tr>\n",
       "      <th>164307</th>\n",
       "      <td>10,000</td>\n",
       "      <td>4 years</td>\n",
       "      <td>Rent</td>\n",
       "      <td>71150.557520</td>\n",
       "      <td>not verified</td>\n",
       "      <td>major_purchase</td>\n",
       "      <td>18.75</td>\n",
       "      <td>1</td>\n",
       "      <td>16</td>\n",
       "      <td>62</td>\n",
       "      <td>Female</td>\n",
       "    </tr>\n",
       "    <tr>\n",
       "      <th>164308</th>\n",
       "      <td>9,250</td>\n",
       "      <td>10+ years</td>\n",
       "      <td>Rent</td>\n",
       "      <td>76717.304851</td>\n",
       "      <td>VERIFIED - income</td>\n",
       "      <td>credit_card</td>\n",
       "      <td>19.44</td>\n",
       "      <td>1</td>\n",
       "      <td>5</td>\n",
       "      <td>9</td>\n",
       "      <td>Female</td>\n",
       "    </tr>\n",
       "  </tbody>\n",
       "</table>\n",
       "<p>164309 rows × 11 columns</p>\n",
       "</div>"
      ],
      "text/plain": [
       "       Loan_Amount_Requested Length_Employed Home_Owner  Annual_Income  \\\n",
       "0                      7,000        < 1 year       Rent   68000.000000   \n",
       "1                     30,000         4 years   Mortgage   71150.557520   \n",
       "2                     24,725         7 years   Mortgage   75566.400000   \n",
       "3                     16,000        < 1 year        NAN   56160.000000   \n",
       "4                     17,000         8 years        Own   96000.000000   \n",
       "...                      ...             ...        ...            ...   \n",
       "164304                20,725       10+ years       Rent   76717.304851   \n",
       "164305                 6,000         8 years        Own   74645.174631   \n",
       "164306                20,250       10+ years   Mortgage   76717.304851   \n",
       "164307                10,000         4 years       Rent   71150.557520   \n",
       "164308                 9,250       10+ years       Rent   76717.304851   \n",
       "\n",
       "                 Income_Verified     Purpose_Of_Loan  Debt_To_Income  \\\n",
       "0                   not verified                 car           18.37   \n",
       "1              VERIFIED - income  debt_consolidation           14.93   \n",
       "2       VERIFIED - income source  debt_consolidation           15.88   \n",
       "3       VERIFIED - income source  debt_consolidation           14.34   \n",
       "4       VERIFIED - income source  debt_consolidation           22.17   \n",
       "...                          ...                 ...             ...   \n",
       "164304  VERIFIED - income source         credit_card           13.56   \n",
       "164305  VERIFIED - income source      small_business            9.12   \n",
       "164306         VERIFIED - income         credit_card           18.17   \n",
       "164307              not verified      major_purchase           18.75   \n",
       "164308         VERIFIED - income         credit_card           19.44   \n",
       "\n",
       "        Inquiries_Last_6Mo  Number_Open_Accounts  Total_Accounts  Gender  \n",
       "0                        0                     9              14  Female  \n",
       "1                        0                    12              24  Female  \n",
       "2                        0                    12              16    Male  \n",
       "3                        3                    16              22    Male  \n",
       "4                        1                    19              30  Female  \n",
       "...                    ...                   ...             ...     ...  \n",
       "164304                   0                    13              16    Male  \n",
       "164305                   0                    13              30    Male  \n",
       "164306                   1                    17              30    Male  \n",
       "164307                   1                    16              62  Female  \n",
       "164308                   1                     5               9  Female  \n",
       "\n",
       "[164309 rows x 11 columns]"
      ]
     },
     "execution_count": 312,
     "metadata": {},
     "output_type": "execute_result"
    }
   ],
   "source": [
    "x_train"
   ]
  },
  {
   "cell_type": "code",
   "execution_count": 191,
   "metadata": {},
   "outputs": [],
   "source": [
    "cb = CatBoostClassifier(depth=10,iterations=400,learning_rate=0.3,l2_leaf_reg= 14)"
   ]
  },
  {
   "cell_type": "code",
   "execution_count": 192,
   "metadata": {},
   "outputs": [],
   "source": [
    "cat_features_index = [0,1,2,4,5,11]"
   ]
  },
  {
   "cell_type": "code",
   "execution_count": 194,
   "metadata": {},
   "outputs": [],
   "source": [
    "# cb.fit(x_train,y_train,cat_features=cat_features_index)"
   ]
  },
  {
   "cell_type": "code",
   "execution_count": 151,
   "metadata": {},
   "outputs": [
    {
     "data": {
      "text/plain": [
       "0.6054567917764699"
      ]
     },
     "execution_count": 151,
     "metadata": {},
     "output_type": "execute_result"
    }
   ],
   "source": [
    "cb.score(x_train,y_train)"
   ]
  },
  {
   "cell_type": "code",
   "execution_count": 152,
   "metadata": {},
   "outputs": [],
   "source": [
    "y_pred = cb.predict(x_test)"
   ]
  },
  {
   "cell_type": "code",
   "execution_count": 153,
   "metadata": {},
   "outputs": [
    {
     "data": {
      "text/plain": [
       "(109541, 1)"
      ]
     },
     "execution_count": 153,
     "metadata": {},
     "output_type": "execute_result"
    }
   ],
   "source": [
    "y_pred.shape"
   ]
  },
  {
   "cell_type": "code",
   "execution_count": 154,
   "metadata": {},
   "outputs": [],
   "source": [
    "id = pd.read_csv(\"sample_submission_HSqiq1Q.csv\")"
   ]
  },
  {
   "cell_type": "code",
   "execution_count": 155,
   "metadata": {},
   "outputs": [],
   "source": [
    "id.drop(columns=[\"Interest_Rate\"],inplace=True)"
   ]
  },
  {
   "cell_type": "code",
   "execution_count": 156,
   "metadata": {},
   "outputs": [
    {
     "data": {
      "text/plain": [
       "(109541, 1)"
      ]
     },
     "execution_count": 156,
     "metadata": {},
     "output_type": "execute_result"
    }
   ],
   "source": [
    "id.shape"
   ]
  },
  {
   "cell_type": "code",
   "execution_count": 157,
   "metadata": {},
   "outputs": [],
   "source": [
    "y_prediction = np.hstack((id,y_pred))"
   ]
  },
  {
   "cell_type": "code",
   "execution_count": 158,
   "metadata": {},
   "outputs": [
    {
     "data": {
      "text/plain": [
       "(109541, 2)"
      ]
     },
     "execution_count": 158,
     "metadata": {},
     "output_type": "execute_result"
    }
   ],
   "source": [
    "\n",
    "y_prediction.shape"
   ]
  },
  {
   "cell_type": "code",
   "execution_count": 159,
   "metadata": {},
   "outputs": [],
   "source": [
    "df = pd.DataFrame(data = y_prediction,columns=[\"Loan_ID\",\"Interest_Rate\"])\n",
    "df.to_csv(\"Loan_Price_Prediction_Catboost_Categoriacl.csv\",index=False)"
   ]
  },
  {
   "cell_type": "markdown",
   "metadata": {},
   "source": [
    "# Random Forrest"
   ]
  },
  {
   "cell_type": "code",
   "execution_count": 215,
   "metadata": {},
   "outputs": [
    {
     "data": {
      "text/plain": [
       "10,000    11622\n",
       "12,000     9018\n",
       "15,000     8459\n",
       "20,000     7993\n",
       "35,000     5844\n",
       "          ...  \n",
       "26,425        1\n",
       "33,650        1\n",
       "22,775        1\n",
       "33,200        1\n",
       "33,725        1\n",
       "Name: Loan_Amount_Requested, Length: 1290, dtype: int64"
      ]
     },
     "execution_count": 215,
     "metadata": {},
     "output_type": "execute_result"
    }
   ],
   "source": [
    "x_train[\"Loan_Amount_Requested\"].value_counts()"
   ]
  },
  {
   "cell_type": "code",
   "execution_count": 313,
   "metadata": {},
   "outputs": [],
   "source": [
    "from sklearn.preprocessing import OneHotEncoder\n",
    "from sklearn.preprocessing import LabelEncoder"
   ]
  },
  {
   "cell_type": "code",
   "execution_count": 314,
   "metadata": {},
   "outputs": [],
   "source": [
    "combine = x_train.append(x_test)"
   ]
  },
  {
   "cell_type": "code",
   "execution_count": 315,
   "metadata": {},
   "outputs": [
    {
     "data": {
      "text/html": [
       "<div>\n",
       "<style scoped>\n",
       "    .dataframe tbody tr th:only-of-type {\n",
       "        vertical-align: middle;\n",
       "    }\n",
       "\n",
       "    .dataframe tbody tr th {\n",
       "        vertical-align: top;\n",
       "    }\n",
       "\n",
       "    .dataframe thead th {\n",
       "        text-align: right;\n",
       "    }\n",
       "</style>\n",
       "<table border=\"1\" class=\"dataframe\">\n",
       "  <thead>\n",
       "    <tr style=\"text-align: right;\">\n",
       "      <th></th>\n",
       "      <th>Loan_Amount_Requested</th>\n",
       "      <th>Length_Employed</th>\n",
       "      <th>Home_Owner</th>\n",
       "      <th>Annual_Income</th>\n",
       "      <th>Income_Verified</th>\n",
       "      <th>Purpose_Of_Loan</th>\n",
       "      <th>Debt_To_Income</th>\n",
       "      <th>Inquiries_Last_6Mo</th>\n",
       "      <th>Number_Open_Accounts</th>\n",
       "      <th>Total_Accounts</th>\n",
       "      <th>Gender</th>\n",
       "    </tr>\n",
       "  </thead>\n",
       "  <tbody>\n",
       "    <tr>\n",
       "      <th>0</th>\n",
       "      <td>7,000</td>\n",
       "      <td>&lt; 1 year</td>\n",
       "      <td>Rent</td>\n",
       "      <td>68000.00000</td>\n",
       "      <td>not verified</td>\n",
       "      <td>car</td>\n",
       "      <td>18.37</td>\n",
       "      <td>0</td>\n",
       "      <td>9</td>\n",
       "      <td>14</td>\n",
       "      <td>Female</td>\n",
       "    </tr>\n",
       "    <tr>\n",
       "      <th>1</th>\n",
       "      <td>30,000</td>\n",
       "      <td>4 years</td>\n",
       "      <td>Mortgage</td>\n",
       "      <td>71150.55752</td>\n",
       "      <td>VERIFIED - income</td>\n",
       "      <td>debt_consolidation</td>\n",
       "      <td>14.93</td>\n",
       "      <td>0</td>\n",
       "      <td>12</td>\n",
       "      <td>24</td>\n",
       "      <td>Female</td>\n",
       "    </tr>\n",
       "    <tr>\n",
       "      <th>2</th>\n",
       "      <td>24,725</td>\n",
       "      <td>7 years</td>\n",
       "      <td>Mortgage</td>\n",
       "      <td>75566.40000</td>\n",
       "      <td>VERIFIED - income source</td>\n",
       "      <td>debt_consolidation</td>\n",
       "      <td>15.88</td>\n",
       "      <td>0</td>\n",
       "      <td>12</td>\n",
       "      <td>16</td>\n",
       "      <td>Male</td>\n",
       "    </tr>\n",
       "    <tr>\n",
       "      <th>3</th>\n",
       "      <td>16,000</td>\n",
       "      <td>&lt; 1 year</td>\n",
       "      <td>NAN</td>\n",
       "      <td>56160.00000</td>\n",
       "      <td>VERIFIED - income source</td>\n",
       "      <td>debt_consolidation</td>\n",
       "      <td>14.34</td>\n",
       "      <td>3</td>\n",
       "      <td>16</td>\n",
       "      <td>22</td>\n",
       "      <td>Male</td>\n",
       "    </tr>\n",
       "    <tr>\n",
       "      <th>4</th>\n",
       "      <td>17,000</td>\n",
       "      <td>8 years</td>\n",
       "      <td>Own</td>\n",
       "      <td>96000.00000</td>\n",
       "      <td>VERIFIED - income source</td>\n",
       "      <td>debt_consolidation</td>\n",
       "      <td>22.17</td>\n",
       "      <td>1</td>\n",
       "      <td>19</td>\n",
       "      <td>30</td>\n",
       "      <td>Female</td>\n",
       "    </tr>\n",
       "    <tr>\n",
       "      <th>...</th>\n",
       "      <td>...</td>\n",
       "      <td>...</td>\n",
       "      <td>...</td>\n",
       "      <td>...</td>\n",
       "      <td>...</td>\n",
       "      <td>...</td>\n",
       "      <td>...</td>\n",
       "      <td>...</td>\n",
       "      <td>...</td>\n",
       "      <td>...</td>\n",
       "      <td>...</td>\n",
       "    </tr>\n",
       "    <tr>\n",
       "      <th>109536</th>\n",
       "      <td>15,000</td>\n",
       "      <td>9 years</td>\n",
       "      <td>Mortgage</td>\n",
       "      <td>120000.00000</td>\n",
       "      <td>VERIFIED - income</td>\n",
       "      <td>other</td>\n",
       "      <td>8.15</td>\n",
       "      <td>2</td>\n",
       "      <td>13</td>\n",
       "      <td>57</td>\n",
       "      <td>Male</td>\n",
       "    </tr>\n",
       "    <tr>\n",
       "      <th>109537</th>\n",
       "      <td>9,600</td>\n",
       "      <td>10+ years</td>\n",
       "      <td>Mortgage</td>\n",
       "      <td>125000.00000</td>\n",
       "      <td>not verified</td>\n",
       "      <td>credit_card</td>\n",
       "      <td>9.08</td>\n",
       "      <td>1</td>\n",
       "      <td>9</td>\n",
       "      <td>34</td>\n",
       "      <td>Male</td>\n",
       "    </tr>\n",
       "    <tr>\n",
       "      <th>109538</th>\n",
       "      <td>2,000</td>\n",
       "      <td>5 years</td>\n",
       "      <td>Rent</td>\n",
       "      <td>37850.00000</td>\n",
       "      <td>not verified</td>\n",
       "      <td>credit_card</td>\n",
       "      <td>11.60</td>\n",
       "      <td>0</td>\n",
       "      <td>10</td>\n",
       "      <td>11</td>\n",
       "      <td>Male</td>\n",
       "    </tr>\n",
       "    <tr>\n",
       "      <th>109539</th>\n",
       "      <td>2,125</td>\n",
       "      <td>6 years</td>\n",
       "      <td>Rent</td>\n",
       "      <td>30000.00000</td>\n",
       "      <td>not verified</td>\n",
       "      <td>other</td>\n",
       "      <td>24.88</td>\n",
       "      <td>0</td>\n",
       "      <td>5</td>\n",
       "      <td>6</td>\n",
       "      <td>Male</td>\n",
       "    </tr>\n",
       "    <tr>\n",
       "      <th>109540</th>\n",
       "      <td>15,000</td>\n",
       "      <td>2 years</td>\n",
       "      <td>Mortgage</td>\n",
       "      <td>137000.00000</td>\n",
       "      <td>not verified</td>\n",
       "      <td>medical</td>\n",
       "      <td>8.66</td>\n",
       "      <td>1</td>\n",
       "      <td>8</td>\n",
       "      <td>17</td>\n",
       "      <td>Male</td>\n",
       "    </tr>\n",
       "  </tbody>\n",
       "</table>\n",
       "<p>273850 rows × 11 columns</p>\n",
       "</div>"
      ],
      "text/plain": [
       "       Loan_Amount_Requested Length_Employed Home_Owner  Annual_Income  \\\n",
       "0                      7,000        < 1 year       Rent    68000.00000   \n",
       "1                     30,000         4 years   Mortgage    71150.55752   \n",
       "2                     24,725         7 years   Mortgage    75566.40000   \n",
       "3                     16,000        < 1 year        NAN    56160.00000   \n",
       "4                     17,000         8 years        Own    96000.00000   \n",
       "...                      ...             ...        ...            ...   \n",
       "109536                15,000         9 years   Mortgage   120000.00000   \n",
       "109537                 9,600       10+ years   Mortgage   125000.00000   \n",
       "109538                 2,000         5 years       Rent    37850.00000   \n",
       "109539                 2,125         6 years       Rent    30000.00000   \n",
       "109540                15,000         2 years   Mortgage   137000.00000   \n",
       "\n",
       "                 Income_Verified     Purpose_Of_Loan  Debt_To_Income  \\\n",
       "0                   not verified                 car           18.37   \n",
       "1              VERIFIED - income  debt_consolidation           14.93   \n",
       "2       VERIFIED - income source  debt_consolidation           15.88   \n",
       "3       VERIFIED - income source  debt_consolidation           14.34   \n",
       "4       VERIFIED - income source  debt_consolidation           22.17   \n",
       "...                          ...                 ...             ...   \n",
       "109536         VERIFIED - income               other            8.15   \n",
       "109537              not verified         credit_card            9.08   \n",
       "109538              not verified         credit_card           11.60   \n",
       "109539              not verified               other           24.88   \n",
       "109540              not verified             medical            8.66   \n",
       "\n",
       "        Inquiries_Last_6Mo  Number_Open_Accounts  Total_Accounts  Gender  \n",
       "0                        0                     9              14  Female  \n",
       "1                        0                    12              24  Female  \n",
       "2                        0                    12              16    Male  \n",
       "3                        3                    16              22    Male  \n",
       "4                        1                    19              30  Female  \n",
       "...                    ...                   ...             ...     ...  \n",
       "109536                   2                    13              57    Male  \n",
       "109537                   1                     9              34    Male  \n",
       "109538                   0                    10              11    Male  \n",
       "109539                   0                     5               6    Male  \n",
       "109540                   1                     8              17    Male  \n",
       "\n",
       "[273850 rows x 11 columns]"
      ]
     },
     "execution_count": 315,
     "metadata": {},
     "output_type": "execute_result"
    }
   ],
   "source": [
    "combine"
   ]
  },
  {
   "cell_type": "markdown",
   "metadata": {},
   "source": [
    "# Label Encoding"
   ]
  },
  {
   "cell_type": "code",
   "execution_count": 319,
   "metadata": {},
   "outputs": [],
   "source": [
    "le = LabelEncoder()"
   ]
  },
  {
   "cell_type": "code",
   "execution_count": 317,
   "metadata": {},
   "outputs": [],
   "source": [
    "combine[\"Gender\"]=le.fit_transform(combine[\"Gender\"])"
   ]
  },
  {
   "cell_type": "code",
   "execution_count": 318,
   "metadata": {},
   "outputs": [],
   "source": [
    "combine[\"Income_Verified\"] = le.fit_transform(combine[\"Income_Verified\"])"
   ]
  },
  {
   "cell_type": "code",
   "execution_count": 320,
   "metadata": {},
   "outputs": [],
   "source": [
    "combine[\"Loan_Amount_Requested\"] = le.fit_transform(combine[\"Loan_Amount_Requested\"])"
   ]
  },
  {
   "cell_type": "code",
   "execution_count": 321,
   "metadata": {},
   "outputs": [],
   "source": [
    "combine[\"Length_Employed\"] = le.fit_transform(combine[\"Length_Employed\"])"
   ]
  },
  {
   "cell_type": "code",
   "execution_count": 322,
   "metadata": {},
   "outputs": [],
   "source": [
    "combine[\"Purpose_Of_Loan\"] = le.fit_transform(combine[\"Purpose_Of_Loan\"])"
   ]
  },
  {
   "cell_type": "code",
   "execution_count": 323,
   "metadata": {},
   "outputs": [],
   "source": [
    "combine[\"Length_Employed\"] = le.fit_transform(combine[\"Length_Employed\"])"
   ]
  },
  {
   "cell_type": "code",
   "execution_count": 327,
   "metadata": {},
   "outputs": [],
   "source": [
    "combine[\"Home_Owner\"] = le.fit_transform(combine[\"Home_Owner\"])"
   ]
  },
  {
   "cell_type": "code",
   "execution_count": 324,
   "metadata": {},
   "outputs": [
    {
     "data": {
      "text/plain": [
       "(273850, 11)"
      ]
     },
     "execution_count": 324,
     "metadata": {},
     "output_type": "execute_result"
    }
   ],
   "source": [
    "combine.shape"
   ]
  },
  {
   "cell_type": "code",
   "execution_count": 325,
   "metadata": {},
   "outputs": [
    {
     "data": {
      "text/plain": [
       "39      19442\n",
       "119     15020\n",
       "239     13848\n",
       "479     13399\n",
       "1073     9811\n",
       "        ...  \n",
       "1030        1\n",
       "935         1\n",
       "963         1\n",
       "808         1\n",
       "958         1\n",
       "Name: Loan_Amount_Requested, Length: 1320, dtype: int64"
      ]
     },
     "execution_count": 325,
     "metadata": {},
     "output_type": "execute_result"
    }
   ],
   "source": [
    "combine[\"Loan_Amount_Requested\"].value_counts()"
   ]
  },
  {
   "cell_type": "code",
   "execution_count": 328,
   "metadata": {},
   "outputs": [
    {
     "data": {
      "text/html": [
       "<div>\n",
       "<style scoped>\n",
       "    .dataframe tbody tr th:only-of-type {\n",
       "        vertical-align: middle;\n",
       "    }\n",
       "\n",
       "    .dataframe tbody tr th {\n",
       "        vertical-align: top;\n",
       "    }\n",
       "\n",
       "    .dataframe thead th {\n",
       "        text-align: right;\n",
       "    }\n",
       "</style>\n",
       "<table border=\"1\" class=\"dataframe\">\n",
       "  <thead>\n",
       "    <tr style=\"text-align: right;\">\n",
       "      <th></th>\n",
       "      <th>Loan_Amount_Requested</th>\n",
       "      <th>Length_Employed</th>\n",
       "      <th>Home_Owner</th>\n",
       "      <th>Annual_Income</th>\n",
       "      <th>Income_Verified</th>\n",
       "      <th>Purpose_Of_Loan</th>\n",
       "      <th>Debt_To_Income</th>\n",
       "      <th>Inquiries_Last_6Mo</th>\n",
       "      <th>Number_Open_Accounts</th>\n",
       "      <th>Total_Accounts</th>\n",
       "      <th>Gender</th>\n",
       "    </tr>\n",
       "  </thead>\n",
       "  <tbody>\n",
       "    <tr>\n",
       "      <th>0</th>\n",
       "      <td>1195</td>\n",
       "      <td>10</td>\n",
       "      <td>5</td>\n",
       "      <td>68000.00000</td>\n",
       "      <td>2</td>\n",
       "      <td>0</td>\n",
       "      <td>18.37</td>\n",
       "      <td>0</td>\n",
       "      <td>9</td>\n",
       "      <td>14</td>\n",
       "      <td>0</td>\n",
       "    </tr>\n",
       "    <tr>\n",
       "      <th>1</th>\n",
       "      <td>911</td>\n",
       "      <td>4</td>\n",
       "      <td>0</td>\n",
       "      <td>71150.55752</td>\n",
       "      <td>0</td>\n",
       "      <td>2</td>\n",
       "      <td>14.93</td>\n",
       "      <td>0</td>\n",
       "      <td>12</td>\n",
       "      <td>24</td>\n",
       "      <td>0</td>\n",
       "    </tr>\n",
       "    <tr>\n",
       "      <th>2</th>\n",
       "      <td>668</td>\n",
       "      <td>7</td>\n",
       "      <td>0</td>\n",
       "      <td>75566.40000</td>\n",
       "      <td>1</td>\n",
       "      <td>2</td>\n",
       "      <td>15.88</td>\n",
       "      <td>0</td>\n",
       "      <td>12</td>\n",
       "      <td>16</td>\n",
       "      <td>1</td>\n",
       "    </tr>\n",
       "    <tr>\n",
       "      <th>3</th>\n",
       "      <td>279</td>\n",
       "      <td>10</td>\n",
       "      <td>1</td>\n",
       "      <td>56160.00000</td>\n",
       "      <td>1</td>\n",
       "      <td>2</td>\n",
       "      <td>14.34</td>\n",
       "      <td>3</td>\n",
       "      <td>16</td>\n",
       "      <td>22</td>\n",
       "      <td>1</td>\n",
       "    </tr>\n",
       "    <tr>\n",
       "      <th>4</th>\n",
       "      <td>319</td>\n",
       "      <td>8</td>\n",
       "      <td>4</td>\n",
       "      <td>96000.00000</td>\n",
       "      <td>1</td>\n",
       "      <td>2</td>\n",
       "      <td>22.17</td>\n",
       "      <td>1</td>\n",
       "      <td>19</td>\n",
       "      <td>30</td>\n",
       "      <td>0</td>\n",
       "    </tr>\n",
       "    <tr>\n",
       "      <th>...</th>\n",
       "      <td>...</td>\n",
       "      <td>...</td>\n",
       "      <td>...</td>\n",
       "      <td>...</td>\n",
       "      <td>...</td>\n",
       "      <td>...</td>\n",
       "      <td>...</td>\n",
       "      <td>...</td>\n",
       "      <td>...</td>\n",
       "      <td>...</td>\n",
       "      <td>...</td>\n",
       "    </tr>\n",
       "    <tr>\n",
       "      <th>109536</th>\n",
       "      <td>239</td>\n",
       "      <td>9</td>\n",
       "      <td>0</td>\n",
       "      <td>120000.00000</td>\n",
       "      <td>0</td>\n",
       "      <td>9</td>\n",
       "      <td>8.15</td>\n",
       "      <td>2</td>\n",
       "      <td>13</td>\n",
       "      <td>57</td>\n",
       "      <td>1</td>\n",
       "    </tr>\n",
       "    <tr>\n",
       "      <th>109537</th>\n",
       "      <td>1302</td>\n",
       "      <td>1</td>\n",
       "      <td>0</td>\n",
       "      <td>125000.00000</td>\n",
       "      <td>2</td>\n",
       "      <td>1</td>\n",
       "      <td>9.08</td>\n",
       "      <td>1</td>\n",
       "      <td>9</td>\n",
       "      <td>34</td>\n",
       "      <td>1</td>\n",
       "    </tr>\n",
       "    <tr>\n",
       "      <th>109538</th>\n",
       "      <td>439</td>\n",
       "      <td>5</td>\n",
       "      <td>5</td>\n",
       "      <td>37850.00000</td>\n",
       "      <td>2</td>\n",
       "      <td>1</td>\n",
       "      <td>11.60</td>\n",
       "      <td>0</td>\n",
       "      <td>10</td>\n",
       "      <td>11</td>\n",
       "      <td>1</td>\n",
       "    </tr>\n",
       "    <tr>\n",
       "      <th>109539</th>\n",
       "      <td>444</td>\n",
       "      <td>6</td>\n",
       "      <td>5</td>\n",
       "      <td>30000.00000</td>\n",
       "      <td>2</td>\n",
       "      <td>9</td>\n",
       "      <td>24.88</td>\n",
       "      <td>0</td>\n",
       "      <td>5</td>\n",
       "      <td>6</td>\n",
       "      <td>1</td>\n",
       "    </tr>\n",
       "    <tr>\n",
       "      <th>109540</th>\n",
       "      <td>239</td>\n",
       "      <td>2</td>\n",
       "      <td>0</td>\n",
       "      <td>137000.00000</td>\n",
       "      <td>2</td>\n",
       "      <td>7</td>\n",
       "      <td>8.66</td>\n",
       "      <td>1</td>\n",
       "      <td>8</td>\n",
       "      <td>17</td>\n",
       "      <td>1</td>\n",
       "    </tr>\n",
       "  </tbody>\n",
       "</table>\n",
       "<p>273850 rows × 11 columns</p>\n",
       "</div>"
      ],
      "text/plain": [
       "        Loan_Amount_Requested  Length_Employed  Home_Owner  Annual_Income  \\\n",
       "0                        1195               10           5    68000.00000   \n",
       "1                         911                4           0    71150.55752   \n",
       "2                         668                7           0    75566.40000   \n",
       "3                         279               10           1    56160.00000   \n",
       "4                         319                8           4    96000.00000   \n",
       "...                       ...              ...         ...            ...   \n",
       "109536                    239                9           0   120000.00000   \n",
       "109537                   1302                1           0   125000.00000   \n",
       "109538                    439                5           5    37850.00000   \n",
       "109539                    444                6           5    30000.00000   \n",
       "109540                    239                2           0   137000.00000   \n",
       "\n",
       "        Income_Verified  Purpose_Of_Loan  Debt_To_Income  Inquiries_Last_6Mo  \\\n",
       "0                     2                0           18.37                   0   \n",
       "1                     0                2           14.93                   0   \n",
       "2                     1                2           15.88                   0   \n",
       "3                     1                2           14.34                   3   \n",
       "4                     1                2           22.17                   1   \n",
       "...                 ...              ...             ...                 ...   \n",
       "109536                0                9            8.15                   2   \n",
       "109537                2                1            9.08                   1   \n",
       "109538                2                1           11.60                   0   \n",
       "109539                2                9           24.88                   0   \n",
       "109540                2                7            8.66                   1   \n",
       "\n",
       "        Number_Open_Accounts  Total_Accounts  Gender  \n",
       "0                          9              14       0  \n",
       "1                         12              24       0  \n",
       "2                         12              16       1  \n",
       "3                         16              22       1  \n",
       "4                         19              30       0  \n",
       "...                      ...             ...     ...  \n",
       "109536                    13              57       1  \n",
       "109537                     9              34       1  \n",
       "109538                    10              11       1  \n",
       "109539                     5               6       1  \n",
       "109540                     8              17       1  \n",
       "\n",
       "[273850 rows x 11 columns]"
      ]
     },
     "execution_count": 328,
     "metadata": {},
     "output_type": "execute_result"
    }
   ],
   "source": [
    "combine"
   ]
  },
  {
   "cell_type": "code",
   "execution_count": 329,
   "metadata": {},
   "outputs": [
    {
     "data": {
      "text/plain": [
       "0    99076\n",
       "1    88253\n",
       "2    86521\n",
       "Name: Income_Verified, dtype: int64"
      ]
     },
     "execution_count": 329,
     "metadata": {},
     "output_type": "execute_result"
    }
   ],
   "source": [
    "combine[\"Income_Verified\"].value_counts()"
   ]
  },
  {
   "cell_type": "code",
   "execution_count": 330,
   "metadata": {},
   "outputs": [
    {
     "data": {
      "text/plain": [
       "Text(0, 0.5, 'Frequency')"
      ]
     },
     "execution_count": 330,
     "metadata": {},
     "output_type": "execute_result"
    },
    {
     "data": {
      "image/png": "[encoded data removed]",
      "text/plain": [
       "<Figure size 432x288 with 1 Axes>"
      ]
     },
     "metadata": {
      "needs_background": "light"
     },
     "output_type": "display_data"
    }
   ],
   "source": [
    "fig, ax = plt.subplots()\n",
    "x_train[\"Annual_Income\"].hist(bins=50, color='#A9C5D3', \n",
    "                             edgecolor='black', grid=False)\n",
    "ax.set_title('Annual Income', fontsize=12)\n",
    "ax.set_xlabel('Income', fontsize=12)\n",
    "ax.set_ylabel('Frequency', fontsize=12)"
   ]
  },
  {
   "cell_type": "code",
   "execution_count": 331,
   "metadata": {},
   "outputs": [
    {
     "data": {
      "text/plain": [
       "Text(0, 0.5, 'Frequency')"
      ]
     },
     "execution_count": 331,
     "metadata": {},
     "output_type": "execute_result"
    },
    {
     "data": {
      "image/png": "[encoded data removed]",
      "text/plain": [
       "<Figure size 432x288 with 1 Axes>"
      ]
     },
     "metadata": {
      "needs_background": "light"
     },
     "output_type": "display_data"
    }
   ],
   "source": [
    "fig, ax = plt.subplots()\n",
    "x_train[\"Debt_To_Income\"].hist(bins=50, color='#A9C5D3', \n",
    "                             edgecolor='black', grid=False)\n",
    "ax.set_title('Debt_To_Income', fontsize=12)\n",
    "ax.set_xlabel('Debt_Income', fontsize=12)\n",
    "ax.set_ylabel('Frequency', fontsize=12)"
   ]
  },
  {
   "cell_type": "code",
   "execution_count": 332,
   "metadata": {},
   "outputs": [
    {
     "data": {
      "text/plain": [
       "Text(0, 0.5, 'Frequency')"
      ]
     },
     "execution_count": 332,
     "metadata": {},
     "output_type": "execute_result"
    },
    {
     "data": {
      "image/png": "[encoded data removed]",
      "text/plain": [
       "<Figure size 432x288 with 1 Axes>"
      ]
     },
     "metadata": {
      "needs_background": "light"
     },
     "output_type": "display_data"
    }
   ],
   "source": [
    "fig, ax = plt.subplots()\n",
    "x_train[\"Loan_Amount_Requested\"].hist(bins=50, color='#A9C5D3', \n",
    "                             edgecolor='black', grid=False)\n",
    "ax.set_title('Loan_Amount_Requested', fontsize=12)\n",
    "ax.set_xlabel('Amount_Requested', fontsize=12)\n",
    "ax.set_ylabel('Frequency', fontsize=12)"
   ]
  },
  {
   "cell_type": "code",
   "execution_count": 333,
   "metadata": {},
   "outputs": [
    {
     "data": {
      "text/plain": [
       "Text(0, 0.5, 'Frequency')"
      ]
     },
     "execution_count": 333,
     "metadata": {},
     "output_type": "execute_result"
    },
    {
     "data": {
      "image/png": "[encoded data removed]",
      "text/plain": [
       "<Figure size 432x288 with 1 Axes>"
      ]
     },
     "metadata": {
      "needs_background": "light"
     },
     "output_type": "display_data"
    }
   ],
   "source": [
    "fig, ax = plt.subplots()\n",
    "x_train[\"Total_Accounts\"].hist(bins=50, color='#A9C5D3', \n",
    "                             edgecolor='black', grid=False)\n",
    "ax.set_title('Total_Accounts', fontsize=12)\n",
    "ax.set_xlabel('Accounts', fontsize=12)\n",
    "ax.set_ylabel('Frequency', fontsize=12)"
   ]
  },
  {
   "cell_type": "code",
   "execution_count": 334,
   "metadata": {},
   "outputs": [
    {
     "data": {
      "text/plain": [
       "Text(0, 0.5, 'Frequency')"
      ]
     },
     "execution_count": 334,
     "metadata": {},
     "output_type": "execute_result"
    },
    {
     "data": {
      "image/png": "[encoded data removed]",
      "text/plain": [
       "<Figure size 432x288 with 1 Axes>"
      ]
     },
     "metadata": {
      "needs_background": "light"
     },
     "output_type": "display_data"
    }
   ],
   "source": [
    "fig, ax = plt.subplots()\n",
    "x_train[\"Purpose_Of_Loan\"].hist(bins=50, color='#A9C5D3', \n",
    "                             edgecolor='black', grid=False)\n",
    "ax.set_title(\"Purpose_Of_Loan\", fontsize=12)\n",
    "ax.set_xlabel(\"Purpose_Of_Loan\", fontsize=12)\n",
    "ax.set_ylabel('Frequency', fontsize=12)"
   ]
  },
  {
   "cell_type": "code",
   "execution_count": 335,
   "metadata": {},
   "outputs": [],
   "source": [
    "x_train = combine[:x_train.shape[0]]\n",
    "x_test = combine[x_train.shape[0]:]"
   ]
  },
  {
   "cell_type": "code",
   "execution_count": 336,
   "metadata": {},
   "outputs": [
    {
     "data": {
      "text/plain": [
       "((164309, 11), (109541, 11))"
      ]
     },
     "execution_count": 336,
     "metadata": {},
     "output_type": "execute_result"
    }
   ],
   "source": [
    "x_train.shape,x_test.shape"
   ]
  },
  {
   "cell_type": "code",
   "execution_count": 233,
   "metadata": {},
   "outputs": [],
   "source": [
    "# !pip install category_encoders"
   ]
  },
  {
   "cell_type": "markdown",
   "metadata": {},
   "source": [
    "# Target Encoding"
   ]
  },
  {
   "cell_type": "code",
   "execution_count": 337,
   "metadata": {},
   "outputs": [],
   "source": [
    "import category_encoders as ce"
   ]
  },
  {
   "cell_type": "code",
   "execution_count": 235,
   "metadata": {},
   "outputs": [],
   "source": [
    "encoder = ce.TargetEncoder()"
   ]
  },
  {
   "cell_type": "code",
   "execution_count": 236,
   "metadata": {},
   "outputs": [
    {
     "name": "stderr",
     "output_type": "stream",
     "text": [
      "C:\\Users\\Hp\\.conda\\envs\\tensorflow_env\\lib\\site-packages\\ipykernel_launcher.py:1: SettingWithCopyWarning: \n",
      "A value is trying to be set on a copy of a slice from a DataFrame.\n",
      "Try using .loc[row_indexer,col_indexer] = value instead\n",
      "\n",
      "See the caveats in the documentation: https://pandas.pydata.org/pandas-docs/stable/user_guide/indexing.html#returning-a-view-versus-a-copy\n",
      "  \"\"\"Entry point for launching an IPython kernel.\n"
     ]
    }
   ],
   "source": [
    "x_train[\"Loan_Amount_Requested\"] = encoder.fit_transform(x_train[\"Loan_Amount_Requested\"],y_train)\n",
    "x_test[\"Loan_Amount_Requested\"] = encoder.transform(x_test[\"Loan_Amount_Requested\"])"
   ]
  },
  {
   "cell_type": "code",
   "execution_count": 238,
   "metadata": {},
   "outputs": [],
   "source": [
    "encoder = ce.TargetEncoder()"
   ]
  },
  {
   "cell_type": "code",
   "execution_count": 239,
   "metadata": {},
   "outputs": [
    {
     "name": "stderr",
     "output_type": "stream",
     "text": [
      "C:\\Users\\Hp\\.conda\\envs\\tensorflow_env\\lib\\site-packages\\ipykernel_launcher.py:1: SettingWithCopyWarning: \n",
      "A value is trying to be set on a copy of a slice from a DataFrame.\n",
      "Try using .loc[row_indexer,col_indexer] = value instead\n",
      "\n",
      "See the caveats in the documentation: https://pandas.pydata.org/pandas-docs/stable/user_guide/indexing.html#returning-a-view-versus-a-copy\n",
      "  \"\"\"Entry point for launching an IPython kernel.\n"
     ]
    }
   ],
   "source": [
    "x_train[\"Length_Employed\"] = encoder.fit_transform(x_train[\"Length_Employed\"],y_train)\n",
    "x_test[\"Length_Employed\"] = encoder.transform(x_test[\"Length_Employed\"])"
   ]
  },
  {
   "cell_type": "code",
   "execution_count": 241,
   "metadata": {},
   "outputs": [
    {
     "data": {
      "text/plain": [
       "2.178731    60286\n",
       "2.136115    14620\n",
       "2.128642    12974\n",
       "2.114174    12805\n",
       "2.163862    10814\n",
       "2.123969    10422\n",
       "2.141660     9784\n",
       "2.191556     9308\n",
       "2.172421     9094\n",
       "2.158520     7917\n",
       "2.185362     6285\n",
       "Name: Length_Employed, dtype: int64"
      ]
     },
     "execution_count": 241,
     "metadata": {},
     "output_type": "execute_result"
    }
   ],
   "source": [
    "x_train[\"Length_Employed\"].value_counts()"
   ]
  },
  {
   "cell_type": "code",
   "execution_count": 242,
   "metadata": {},
   "outputs": [
    {
     "data": {
      "text/html": [
       "<div>\n",
       "<style scoped>\n",
       "    .dataframe tbody tr th:only-of-type {\n",
       "        vertical-align: middle;\n",
       "    }\n",
       "\n",
       "    .dataframe tbody tr th {\n",
       "        vertical-align: top;\n",
       "    }\n",
       "\n",
       "    .dataframe thead th {\n",
       "        text-align: right;\n",
       "    }\n",
       "</style>\n",
       "<table border=\"1\" class=\"dataframe\">\n",
       "  <thead>\n",
       "    <tr style=\"text-align: right;\">\n",
       "      <th></th>\n",
       "      <th>Loan_Amount_Requested</th>\n",
       "      <th>Length_Employed</th>\n",
       "      <th>Home_Owner</th>\n",
       "      <th>Annual_Income</th>\n",
       "      <th>Income_Verified</th>\n",
       "      <th>Purpose_Of_Loan</th>\n",
       "      <th>Debt_To_Income</th>\n",
       "      <th>Inquiries_Last_6Mo</th>\n",
       "      <th>Number_Open_Accounts</th>\n",
       "      <th>Total_Accounts</th>\n",
       "      <th>Gender</th>\n",
       "    </tr>\n",
       "  </thead>\n",
       "  <tbody>\n",
       "    <tr>\n",
       "      <th>0</th>\n",
       "      <td>1.908295</td>\n",
       "      <td>2.114174</td>\n",
       "      <td>Rent</td>\n",
       "      <td>68000.000000</td>\n",
       "      <td>2</td>\n",
       "      <td>car</td>\n",
       "      <td>18.37</td>\n",
       "      <td>0</td>\n",
       "      <td>9</td>\n",
       "      <td>14</td>\n",
       "      <td>0</td>\n",
       "    </tr>\n",
       "    <tr>\n",
       "      <th>1</th>\n",
       "      <td>2.440014</td>\n",
       "      <td>2.141660</td>\n",
       "      <td>Mortgage</td>\n",
       "      <td>71150.557520</td>\n",
       "      <td>0</td>\n",
       "      <td>debt_consolidation</td>\n",
       "      <td>14.93</td>\n",
       "      <td>0</td>\n",
       "      <td>12</td>\n",
       "      <td>24</td>\n",
       "      <td>0</td>\n",
       "    </tr>\n",
       "    <tr>\n",
       "      <th>2</th>\n",
       "      <td>2.600000</td>\n",
       "      <td>2.191556</td>\n",
       "      <td>Mortgage</td>\n",
       "      <td>75566.400000</td>\n",
       "      <td>1</td>\n",
       "      <td>debt_consolidation</td>\n",
       "      <td>15.88</td>\n",
       "      <td>0</td>\n",
       "      <td>12</td>\n",
       "      <td>16</td>\n",
       "      <td>1</td>\n",
       "    </tr>\n",
       "    <tr>\n",
       "      <th>3</th>\n",
       "      <td>2.105119</td>\n",
       "      <td>2.114174</td>\n",
       "      <td>NAN</td>\n",
       "      <td>56160.000000</td>\n",
       "      <td>1</td>\n",
       "      <td>debt_consolidation</td>\n",
       "      <td>14.34</td>\n",
       "      <td>3</td>\n",
       "      <td>16</td>\n",
       "      <td>22</td>\n",
       "      <td>1</td>\n",
       "    </tr>\n",
       "    <tr>\n",
       "      <th>4</th>\n",
       "      <td>1.988106</td>\n",
       "      <td>2.158520</td>\n",
       "      <td>Own</td>\n",
       "      <td>96000.000000</td>\n",
       "      <td>1</td>\n",
       "      <td>debt_consolidation</td>\n",
       "      <td>22.17</td>\n",
       "      <td>1</td>\n",
       "      <td>19</td>\n",
       "      <td>30</td>\n",
       "      <td>0</td>\n",
       "    </tr>\n",
       "    <tr>\n",
       "      <th>...</th>\n",
       "      <td>...</td>\n",
       "      <td>...</td>\n",
       "      <td>...</td>\n",
       "      <td>...</td>\n",
       "      <td>...</td>\n",
       "      <td>...</td>\n",
       "      <td>...</td>\n",
       "      <td>...</td>\n",
       "      <td>...</td>\n",
       "      <td>...</td>\n",
       "      <td>...</td>\n",
       "    </tr>\n",
       "    <tr>\n",
       "      <th>164304</th>\n",
       "      <td>2.684211</td>\n",
       "      <td>2.178731</td>\n",
       "      <td>Rent</td>\n",
       "      <td>76717.304851</td>\n",
       "      <td>1</td>\n",
       "      <td>credit_card</td>\n",
       "      <td>13.56</td>\n",
       "      <td>0</td>\n",
       "      <td>13</td>\n",
       "      <td>16</td>\n",
       "      <td>1</td>\n",
       "    </tr>\n",
       "    <tr>\n",
       "      <th>164305</th>\n",
       "      <td>1.948434</td>\n",
       "      <td>2.158520</td>\n",
       "      <td>Own</td>\n",
       "      <td>74645.174631</td>\n",
       "      <td>1</td>\n",
       "      <td>small_business</td>\n",
       "      <td>9.12</td>\n",
       "      <td>0</td>\n",
       "      <td>13</td>\n",
       "      <td>30</td>\n",
       "      <td>1</td>\n",
       "    </tr>\n",
       "    <tr>\n",
       "      <th>164306</th>\n",
       "      <td>2.450000</td>\n",
       "      <td>2.178731</td>\n",
       "      <td>Mortgage</td>\n",
       "      <td>76717.304851</td>\n",
       "      <td>0</td>\n",
       "      <td>credit_card</td>\n",
       "      <td>18.17</td>\n",
       "      <td>1</td>\n",
       "      <td>17</td>\n",
       "      <td>30</td>\n",
       "      <td>1</td>\n",
       "    </tr>\n",
       "    <tr>\n",
       "      <th>164307</th>\n",
       "      <td>2.019618</td>\n",
       "      <td>2.141660</td>\n",
       "      <td>Rent</td>\n",
       "      <td>71150.557520</td>\n",
       "      <td>2</td>\n",
       "      <td>major_purchase</td>\n",
       "      <td>18.75</td>\n",
       "      <td>1</td>\n",
       "      <td>16</td>\n",
       "      <td>62</td>\n",
       "      <td>0</td>\n",
       "    </tr>\n",
       "    <tr>\n",
       "      <th>164308</th>\n",
       "      <td>2.382514</td>\n",
       "      <td>2.178731</td>\n",
       "      <td>Rent</td>\n",
       "      <td>76717.304851</td>\n",
       "      <td>0</td>\n",
       "      <td>credit_card</td>\n",
       "      <td>19.44</td>\n",
       "      <td>1</td>\n",
       "      <td>5</td>\n",
       "      <td>9</td>\n",
       "      <td>0</td>\n",
       "    </tr>\n",
       "  </tbody>\n",
       "</table>\n",
       "<p>164309 rows × 11 columns</p>\n",
       "</div>"
      ],
      "text/plain": [
       "        Loan_Amount_Requested  Length_Employed Home_Owner  Annual_Income  \\\n",
       "0                    1.908295         2.114174       Rent   68000.000000   \n",
       "1                    2.440014         2.141660   Mortgage   71150.557520   \n",
       "2                    2.600000         2.191556   Mortgage   75566.400000   \n",
       "3                    2.105119         2.114174        NAN   56160.000000   \n",
       "4                    1.988106         2.158520        Own   96000.000000   \n",
       "...                       ...              ...        ...            ...   \n",
       "164304               2.684211         2.178731       Rent   76717.304851   \n",
       "164305               1.948434         2.158520        Own   74645.174631   \n",
       "164306               2.450000         2.178731   Mortgage   76717.304851   \n",
       "164307               2.019618         2.141660       Rent   71150.557520   \n",
       "164308               2.382514         2.178731       Rent   76717.304851   \n",
       "\n",
       "        Income_Verified     Purpose_Of_Loan  Debt_To_Income  \\\n",
       "0                     2                 car           18.37   \n",
       "1                     0  debt_consolidation           14.93   \n",
       "2                     1  debt_consolidation           15.88   \n",
       "3                     1  debt_consolidation           14.34   \n",
       "4                     1  debt_consolidation           22.17   \n",
       "...                 ...                 ...             ...   \n",
       "164304                1         credit_card           13.56   \n",
       "164305                1      small_business            9.12   \n",
       "164306                0         credit_card           18.17   \n",
       "164307                2      major_purchase           18.75   \n",
       "164308                0         credit_card           19.44   \n",
       "\n",
       "        Inquiries_Last_6Mo  Number_Open_Accounts  Total_Accounts  Gender  \n",
       "0                        0                     9              14       0  \n",
       "1                        0                    12              24       0  \n",
       "2                        0                    12              16       1  \n",
       "3                        3                    16              22       1  \n",
       "4                        1                    19              30       0  \n",
       "...                    ...                   ...             ...     ...  \n",
       "164304                   0                    13              16       1  \n",
       "164305                   0                    13              30       1  \n",
       "164306                   1                    17              30       1  \n",
       "164307                   1                    16              62       0  \n",
       "164308                   1                     5               9       0  \n",
       "\n",
       "[164309 rows x 11 columns]"
      ]
     },
     "execution_count": 242,
     "metadata": {},
     "output_type": "execute_result"
    }
   ],
   "source": [
    "x_train"
   ]
  },
  {
   "cell_type": "code",
   "execution_count": 243,
   "metadata": {},
   "outputs": [],
   "source": [
    "# encoder= ce.BaseNEncoder(cols=[\"Length_Employed\"],return_df=True,base=10)\n",
    "# data_encoded_train = encoder.fit_transform(x_train[\"Length_Employed\"])\n",
    "# data_encoded_test = encoder.transform(x_test[\"Length_Employed\"])\n",
    "# data_encoded_train\n",
    "# x_train = pd.concat([x_train,data_encoded_train])\n",
    "# x_train.drop(columns=[\"Length_Employed\"],inplace=True)\n",
    "# x_test = pd.concat([x_teast,data_encoded_test])\n",
    "# x_test.drop(columns=[\"Length_Employed\"],inplace=True)"
   ]
  },
  {
   "cell_type": "markdown",
   "metadata": {},
   "source": [
    "# Get Dummies"
   ]
  },
  {
   "cell_type": "code",
   "execution_count": 244,
   "metadata": {},
   "outputs": [],
   "source": [
    "# x_train = pd.concat([x_train,pd.get_dummies(x_train[\"Length_Employed\"])],axis=1)\n",
    "# x_test = pd.concat([x_test,pd.get_dummies(x_test[\"Length_Employed\"])],axis=1)\n",
    "# x_train.drop(columns=\"Length_Employed\",inplace=True)\n",
    "# x_test.drop(columns=\"Length_Employed\",inplace=True)"
   ]
  },
  {
   "cell_type": "code",
   "execution_count": 245,
   "metadata": {},
   "outputs": [
    {
     "data": {
      "text/plain": [
       "((164309, 11), (109541, 11))"
      ]
     },
     "execution_count": 245,
     "metadata": {},
     "output_type": "execute_result"
    }
   ],
   "source": [
    "x_train.shape,x_test.shape"
   ]
  },
  {
   "cell_type": "code",
   "execution_count": 246,
   "metadata": {},
   "outputs": [
    {
     "data": {
      "text/plain": [
       "Mortgage    70345\n",
       "Rent        56031\n",
       "NAN         25349\n",
       "Own         12525\n",
       "Other          49\n",
       "None           10\n",
       "Name: Home_Owner, dtype: int64"
      ]
     },
     "execution_count": 246,
     "metadata": {},
     "output_type": "execute_result"
    }
   ],
   "source": [
    "x_train[\"Home_Owner\"].value_counts()"
   ]
  },
  {
   "cell_type": "code",
   "execution_count": 247,
   "metadata": {},
   "outputs": [],
   "source": [
    "encoder = ce.TargetEncoder()"
   ]
  },
  {
   "cell_type": "code",
   "execution_count": 248,
   "metadata": {},
   "outputs": [
    {
     "name": "stderr",
     "output_type": "stream",
     "text": [
      "C:\\Users\\Hp\\.conda\\envs\\tensorflow_env\\lib\\site-packages\\ipykernel_launcher.py:1: SettingWithCopyWarning: \n",
      "A value is trying to be set on a copy of a slice from a DataFrame.\n",
      "Try using .loc[row_indexer,col_indexer] = value instead\n",
      "\n",
      "See the caveats in the documentation: https://pandas.pydata.org/pandas-docs/stable/user_guide/indexing.html#returning-a-view-versus-a-copy\n",
      "  \"\"\"Entry point for launching an IPython kernel.\n",
      "C:\\Users\\Hp\\.conda\\envs\\tensorflow_env\\lib\\site-packages\\ipykernel_launcher.py:2: SettingWithCopyWarning: \n",
      "A value is trying to be set on a copy of a slice from a DataFrame.\n",
      "Try using .loc[row_indexer,col_indexer] = value instead\n",
      "\n",
      "See the caveats in the documentation: https://pandas.pydata.org/pandas-docs/stable/user_guide/indexing.html#returning-a-view-versus-a-copy\n",
      "  \n"
     ]
    }
   ],
   "source": [
    "x_train[\"Purpose_Of_Loan\"] = encoder.fit_transform(x_train[\"Purpose_Of_Loan\"],y_train)\n",
    "x_test[\"Purpose_Of_Loan\"] = encoder.transform(x_test[\"Purpose_Of_Loan\"])"
   ]
  },
  {
   "cell_type": "code",
   "execution_count": 249,
   "metadata": {},
   "outputs": [],
   "source": [
    "encoder = ce.TargetEncoder()"
   ]
  },
  {
   "cell_type": "code",
   "execution_count": 250,
   "metadata": {},
   "outputs": [
    {
     "name": "stderr",
     "output_type": "stream",
     "text": [
      "C:\\Users\\Hp\\.conda\\envs\\tensorflow_env\\lib\\site-packages\\ipykernel_launcher.py:1: SettingWithCopyWarning: \n",
      "A value is trying to be set on a copy of a slice from a DataFrame.\n",
      "Try using .loc[row_indexer,col_indexer] = value instead\n",
      "\n",
      "See the caveats in the documentation: https://pandas.pydata.org/pandas-docs/stable/user_guide/indexing.html#returning-a-view-versus-a-copy\n",
      "  \"\"\"Entry point for launching an IPython kernel.\n",
      "C:\\Users\\Hp\\.conda\\envs\\tensorflow_env\\lib\\site-packages\\ipykernel_launcher.py:2: SettingWithCopyWarning: \n",
      "A value is trying to be set on a copy of a slice from a DataFrame.\n",
      "Try using .loc[row_indexer,col_indexer] = value instead\n",
      "\n",
      "See the caveats in the documentation: https://pandas.pydata.org/pandas-docs/stable/user_guide/indexing.html#returning-a-view-versus-a-copy\n",
      "  \n"
     ]
    }
   ],
   "source": [
    "x_train[\"Home_Owner\"] = encoder.fit_transform(x_train[\"Home_Owner\"],y_train)\n",
    "x_test[\"Home_Owner\"] = encoder.transform(x_test[\"Home_Owner\"])"
   ]
  },
  {
   "cell_type": "code",
   "execution_count": null,
   "metadata": {},
   "outputs": [],
   "source": []
  },
  {
   "cell_type": "code",
   "execution_count": null,
   "metadata": {},
   "outputs": [],
   "source": []
  },
  {
   "cell_type": "code",
   "execution_count": null,
   "metadata": {},
   "outputs": [],
   "source": []
  },
  {
   "cell_type": "code",
   "execution_count": null,
   "metadata": {},
   "outputs": [],
   "source": []
  },
  {
   "cell_type": "code",
   "execution_count": null,
   "metadata": {},
   "outputs": [],
   "source": []
  },
  {
   "cell_type": "code",
   "execution_count": null,
   "metadata": {},
   "outputs": [],
   "source": []
  },
  {
   "cell_type": "code",
   "execution_count": 251,
   "metadata": {},
   "outputs": [
    {
     "data": {
      "text/html": [
       "<div>\n",
       "<style scoped>\n",
       "    .dataframe tbody tr th:only-of-type {\n",
       "        vertical-align: middle;\n",
       "    }\n",
       "\n",
       "    .dataframe tbody tr th {\n",
       "        vertical-align: top;\n",
       "    }\n",
       "\n",
       "    .dataframe thead th {\n",
       "        text-align: right;\n",
       "    }\n",
       "</style>\n",
       "<table border=\"1\" class=\"dataframe\">\n",
       "  <thead>\n",
       "    <tr style=\"text-align: right;\">\n",
       "      <th></th>\n",
       "      <th>Loan_Amount_Requested</th>\n",
       "      <th>Length_Employed</th>\n",
       "      <th>Home_Owner</th>\n",
       "      <th>Annual_Income</th>\n",
       "      <th>Income_Verified</th>\n",
       "      <th>Purpose_Of_Loan</th>\n",
       "      <th>Debt_To_Income</th>\n",
       "      <th>Inquiries_Last_6Mo</th>\n",
       "      <th>Number_Open_Accounts</th>\n",
       "      <th>Total_Accounts</th>\n",
       "      <th>Gender</th>\n",
       "    </tr>\n",
       "  </thead>\n",
       "  <tbody>\n",
       "    <tr>\n",
       "      <th>0</th>\n",
       "      <td>1.908295</td>\n",
       "      <td>2.114174</td>\n",
       "      <td>2.213382</td>\n",
       "      <td>68000.000000</td>\n",
       "      <td>2</td>\n",
       "      <td>1.881167</td>\n",
       "      <td>18.37</td>\n",
       "      <td>0</td>\n",
       "      <td>9</td>\n",
       "      <td>14</td>\n",
       "      <td>0</td>\n",
       "    </tr>\n",
       "    <tr>\n",
       "      <th>1</th>\n",
       "      <td>2.440014</td>\n",
       "      <td>2.141660</td>\n",
       "      <td>2.112673</td>\n",
       "      <td>71150.557520</td>\n",
       "      <td>0</td>\n",
       "      <td>2.211501</td>\n",
       "      <td>14.93</td>\n",
       "      <td>0</td>\n",
       "      <td>12</td>\n",
       "      <td>24</td>\n",
       "      <td>0</td>\n",
       "    </tr>\n",
       "    <tr>\n",
       "      <th>2</th>\n",
       "      <td>2.600000</td>\n",
       "      <td>2.191556</td>\n",
       "      <td>2.112673</td>\n",
       "      <td>75566.400000</td>\n",
       "      <td>1</td>\n",
       "      <td>2.211501</td>\n",
       "      <td>15.88</td>\n",
       "      <td>0</td>\n",
       "      <td>12</td>\n",
       "      <td>16</td>\n",
       "      <td>1</td>\n",
       "    </tr>\n",
       "    <tr>\n",
       "      <th>3</th>\n",
       "      <td>2.105119</td>\n",
       "      <td>2.114174</td>\n",
       "      <td>2.161703</td>\n",
       "      <td>56160.000000</td>\n",
       "      <td>1</td>\n",
       "      <td>2.211501</td>\n",
       "      <td>14.34</td>\n",
       "      <td>3</td>\n",
       "      <td>16</td>\n",
       "      <td>22</td>\n",
       "      <td>1</td>\n",
       "    </tr>\n",
       "    <tr>\n",
       "      <th>4</th>\n",
       "      <td>1.988106</td>\n",
       "      <td>2.158520</td>\n",
       "      <td>2.170299</td>\n",
       "      <td>96000.000000</td>\n",
       "      <td>1</td>\n",
       "      <td>2.211501</td>\n",
       "      <td>22.17</td>\n",
       "      <td>1</td>\n",
       "      <td>19</td>\n",
       "      <td>30</td>\n",
       "      <td>0</td>\n",
       "    </tr>\n",
       "    <tr>\n",
       "      <th>...</th>\n",
       "      <td>...</td>\n",
       "      <td>...</td>\n",
       "      <td>...</td>\n",
       "      <td>...</td>\n",
       "      <td>...</td>\n",
       "      <td>...</td>\n",
       "      <td>...</td>\n",
       "      <td>...</td>\n",
       "      <td>...</td>\n",
       "      <td>...</td>\n",
       "      <td>...</td>\n",
       "    </tr>\n",
       "    <tr>\n",
       "      <th>164304</th>\n",
       "      <td>2.684211</td>\n",
       "      <td>2.178731</td>\n",
       "      <td>2.213382</td>\n",
       "      <td>76717.304851</td>\n",
       "      <td>1</td>\n",
       "      <td>1.963635</td>\n",
       "      <td>13.56</td>\n",
       "      <td>0</td>\n",
       "      <td>13</td>\n",
       "      <td>16</td>\n",
       "      <td>1</td>\n",
       "    </tr>\n",
       "    <tr>\n",
       "      <th>164305</th>\n",
       "      <td>1.948434</td>\n",
       "      <td>2.158520</td>\n",
       "      <td>2.170299</td>\n",
       "      <td>74645.174631</td>\n",
       "      <td>1</td>\n",
       "      <td>2.431856</td>\n",
       "      <td>9.12</td>\n",
       "      <td>0</td>\n",
       "      <td>13</td>\n",
       "      <td>30</td>\n",
       "      <td>1</td>\n",
       "    </tr>\n",
       "    <tr>\n",
       "      <th>164306</th>\n",
       "      <td>2.450000</td>\n",
       "      <td>2.178731</td>\n",
       "      <td>2.112673</td>\n",
       "      <td>76717.304851</td>\n",
       "      <td>0</td>\n",
       "      <td>1.963635</td>\n",
       "      <td>18.17</td>\n",
       "      <td>1</td>\n",
       "      <td>17</td>\n",
       "      <td>30</td>\n",
       "      <td>1</td>\n",
       "    </tr>\n",
       "    <tr>\n",
       "      <th>164307</th>\n",
       "      <td>2.019618</td>\n",
       "      <td>2.141660</td>\n",
       "      <td>2.213382</td>\n",
       "      <td>71150.557520</td>\n",
       "      <td>2</td>\n",
       "      <td>1.984862</td>\n",
       "      <td>18.75</td>\n",
       "      <td>1</td>\n",
       "      <td>16</td>\n",
       "      <td>62</td>\n",
       "      <td>0</td>\n",
       "    </tr>\n",
       "    <tr>\n",
       "      <th>164308</th>\n",
       "      <td>2.382514</td>\n",
       "      <td>2.178731</td>\n",
       "      <td>2.213382</td>\n",
       "      <td>76717.304851</td>\n",
       "      <td>0</td>\n",
       "      <td>1.963635</td>\n",
       "      <td>19.44</td>\n",
       "      <td>1</td>\n",
       "      <td>5</td>\n",
       "      <td>9</td>\n",
       "      <td>0</td>\n",
       "    </tr>\n",
       "  </tbody>\n",
       "</table>\n",
       "<p>164309 rows × 11 columns</p>\n",
       "</div>"
      ],
      "text/plain": [
       "        Loan_Amount_Requested  Length_Employed  Home_Owner  Annual_Income  \\\n",
       "0                    1.908295         2.114174    2.213382   68000.000000   \n",
       "1                    2.440014         2.141660    2.112673   71150.557520   \n",
       "2                    2.600000         2.191556    2.112673   75566.400000   \n",
       "3                    2.105119         2.114174    2.161703   56160.000000   \n",
       "4                    1.988106         2.158520    2.170299   96000.000000   \n",
       "...                       ...              ...         ...            ...   \n",
       "164304               2.684211         2.178731    2.213382   76717.304851   \n",
       "164305               1.948434         2.158520    2.170299   74645.174631   \n",
       "164306               2.450000         2.178731    2.112673   76717.304851   \n",
       "164307               2.019618         2.141660    2.213382   71150.557520   \n",
       "164308               2.382514         2.178731    2.213382   76717.304851   \n",
       "\n",
       "        Income_Verified  Purpose_Of_Loan  Debt_To_Income  Inquiries_Last_6Mo  \\\n",
       "0                     2         1.881167           18.37                   0   \n",
       "1                     0         2.211501           14.93                   0   \n",
       "2                     1         2.211501           15.88                   0   \n",
       "3                     1         2.211501           14.34                   3   \n",
       "4                     1         2.211501           22.17                   1   \n",
       "...                 ...              ...             ...                 ...   \n",
       "164304                1         1.963635           13.56                   0   \n",
       "164305                1         2.431856            9.12                   0   \n",
       "164306                0         1.963635           18.17                   1   \n",
       "164307                2         1.984862           18.75                   1   \n",
       "164308                0         1.963635           19.44                   1   \n",
       "\n",
       "        Number_Open_Accounts  Total_Accounts  Gender  \n",
       "0                          9              14       0  \n",
       "1                         12              24       0  \n",
       "2                         12              16       1  \n",
       "3                         16              22       1  \n",
       "4                         19              30       0  \n",
       "...                      ...             ...     ...  \n",
       "164304                    13              16       1  \n",
       "164305                    13              30       1  \n",
       "164306                    17              30       1  \n",
       "164307                    16              62       0  \n",
       "164308                     5               9       0  \n",
       "\n",
       "[164309 rows x 11 columns]"
      ]
     },
     "execution_count": 251,
     "metadata": {},
     "output_type": "execute_result"
    }
   ],
   "source": [
    "x_train"
   ]
  },
  {
   "cell_type": "code",
   "execution_count": 252,
   "metadata": {},
   "outputs": [
    {
     "data": {
      "text/plain": [
       "((164309, 11), (109541, 11))"
      ]
     },
     "execution_count": 252,
     "metadata": {},
     "output_type": "execute_result"
    }
   ],
   "source": [
    "x_train.shape,x_test.shape"
   ]
  },
  {
   "cell_type": "code",
   "execution_count": 338,
   "metadata": {},
   "outputs": [],
   "source": [
    "from sklearn.ensemble import RandomForestClassifier"
   ]
  },
  {
   "cell_type": "code",
   "execution_count": 365,
   "metadata": {},
   "outputs": [],
   "source": [
    "rf = RandomForestClassifier(n_estimators=300,max_depth=10,min_samples_leaf=5)"
   ]
  },
  {
   "cell_type": "code",
   "execution_count": 366,
   "metadata": {},
   "outputs": [
    {
     "data": {
      "text/plain": [
       "Loan_Amount_Requested    0\n",
       "Length_Employed          0\n",
       "Home_Owner               0\n",
       "Annual_Income            0\n",
       "Income_Verified          0\n",
       "Purpose_Of_Loan          0\n",
       "Debt_To_Income           0\n",
       "Inquiries_Last_6Mo       0\n",
       "Number_Open_Accounts     0\n",
       "Total_Accounts           0\n",
       "Gender                   0\n",
       "dtype: int64"
      ]
     },
     "execution_count": 366,
     "metadata": {},
     "output_type": "execute_result"
    }
   ],
   "source": [
    "x_train.isnull().sum()"
   ]
  },
  {
   "cell_type": "code",
   "execution_count": 367,
   "metadata": {},
   "outputs": [
    {
     "data": {
      "text/plain": [
       "RandomForestClassifier(max_depth=10, min_samples_leaf=5, n_estimators=300)"
      ]
     },
     "execution_count": 367,
     "metadata": {},
     "output_type": "execute_result"
    }
   ],
   "source": [
    "rf.fit(x_train,y_train)"
   ]
  },
  {
   "cell_type": "code",
   "execution_count": 368,
   "metadata": {},
   "outputs": [
    {
     "data": {
      "text/plain": [
       "0.5452531510751085"
      ]
     },
     "execution_count": 368,
     "metadata": {},
     "output_type": "execute_result"
    }
   ],
   "source": [
    "rf.score(x_train,y_train)"
   ]
  },
  {
   "cell_type": "code",
   "execution_count": 395,
   "metadata": {},
   "outputs": [],
   "source": [
    "y_pred = rf.predict(x_test)"
   ]
  },
  {
   "cell_type": "code",
   "execution_count": 396,
   "metadata": {},
   "outputs": [
    {
     "data": {
      "text/plain": [
       "array([2, 1, 3, ..., 2, 3, 2], dtype=int64)"
      ]
     },
     "execution_count": 396,
     "metadata": {},
     "output_type": "execute_result"
    }
   ],
   "source": [
    "y_pred"
   ]
  },
  {
   "cell_type": "code",
   "execution_count": 370,
   "metadata": {},
   "outputs": [
    {
     "data": {
      "text/plain": [
       "(109541,)"
      ]
     },
     "execution_count": 370,
     "metadata": {},
     "output_type": "execute_result"
    }
   ],
   "source": [
    "y_pred.shape"
   ]
  },
  {
   "cell_type": "code",
   "execution_count": 371,
   "metadata": {},
   "outputs": [],
   "source": [
    "y_pred = y_pred.reshape(y_pred.shape[0],1)"
   ]
  },
  {
   "cell_type": "code",
   "execution_count": 372,
   "metadata": {},
   "outputs": [
    {
     "data": {
      "text/plain": [
       "(109541, 1)"
      ]
     },
     "execution_count": 372,
     "metadata": {},
     "output_type": "execute_result"
    }
   ],
   "source": [
    "y_pred.shape"
   ]
  },
  {
   "cell_type": "code",
   "execution_count": 373,
   "metadata": {},
   "outputs": [],
   "source": [
    "id = pd.read_csv(\"sample_submission_HSqiq1Q.csv\")"
   ]
  },
  {
   "cell_type": "code",
   "execution_count": 374,
   "metadata": {},
   "outputs": [],
   "source": [
    "id.drop(columns=[\"Interest_Rate\"],inplace=True)"
   ]
  },
  {
   "cell_type": "code",
   "execution_count": 375,
   "metadata": {},
   "outputs": [
    {
     "data": {
      "text/plain": [
       "(109541, 1)"
      ]
     },
     "execution_count": 375,
     "metadata": {},
     "output_type": "execute_result"
    }
   ],
   "source": [
    "id.shape"
   ]
  },
  {
   "cell_type": "code",
   "execution_count": 376,
   "metadata": {},
   "outputs": [],
   "source": [
    "y_prediction = np.hstack((id,y_pred))"
   ]
  },
  {
   "cell_type": "code",
   "execution_count": 377,
   "metadata": {},
   "outputs": [
    {
     "data": {
      "text/plain": [
       "(109541, 2)"
      ]
     },
     "execution_count": 377,
     "metadata": {},
     "output_type": "execute_result"
    }
   ],
   "source": [
    "y_prediction.shape"
   ]
  },
  {
   "cell_type": "code",
   "execution_count": 378,
   "metadata": {},
   "outputs": [],
   "source": [
    "df = pd.DataFrame(data = y_prediction,columns=[\"Loan_ID\",\"Interest_Rate\"])\n",
    "df.to_csv(\"Loan_Price_Prediction_Random_Forrest.csv\",index=False)"
   ]
  },
  {
   "cell_type": "markdown",
   "metadata": {},
   "source": [
    "# Light GBM Categorical "
   ]
  },
  {
   "cell_type": "code",
   "execution_count": 379,
   "metadata": {},
   "outputs": [],
   "source": [
    "import lightgbm as lgb"
   ]
  },
  {
   "cell_type": "code",
   "execution_count": 380,
   "metadata": {},
   "outputs": [],
   "source": [
    "clf = lgb.LGBMClassifier(max_depth=10,num_leaves=300,n_estimators=200)"
   ]
  },
  {
   "cell_type": "code",
   "execution_count": 382,
   "metadata": {},
   "outputs": [
    {
     "data": {
      "text/html": [
       "<div>\n",
       "<style scoped>\n",
       "    .dataframe tbody tr th:only-of-type {\n",
       "        vertical-align: middle;\n",
       "    }\n",
       "\n",
       "    .dataframe tbody tr th {\n",
       "        vertical-align: top;\n",
       "    }\n",
       "\n",
       "    .dataframe thead th {\n",
       "        text-align: right;\n",
       "    }\n",
       "</style>\n",
       "<table border=\"1\" class=\"dataframe\">\n",
       "  <thead>\n",
       "    <tr style=\"text-align: right;\">\n",
       "      <th></th>\n",
       "      <th>Loan_Amount_Requested</th>\n",
       "      <th>Length_Employed</th>\n",
       "      <th>Home_Owner</th>\n",
       "      <th>Annual_Income</th>\n",
       "      <th>Income_Verified</th>\n",
       "      <th>Purpose_Of_Loan</th>\n",
       "      <th>Debt_To_Income</th>\n",
       "      <th>Inquiries_Last_6Mo</th>\n",
       "      <th>Number_Open_Accounts</th>\n",
       "      <th>Total_Accounts</th>\n",
       "      <th>Gender</th>\n",
       "    </tr>\n",
       "  </thead>\n",
       "  <tbody>\n",
       "    <tr>\n",
       "      <th>0</th>\n",
       "      <td>7,000</td>\n",
       "      <td>&lt; 1 year</td>\n",
       "      <td>Rent</td>\n",
       "      <td>68000.000000</td>\n",
       "      <td>not verified</td>\n",
       "      <td>car</td>\n",
       "      <td>18.37</td>\n",
       "      <td>0</td>\n",
       "      <td>9</td>\n",
       "      <td>14</td>\n",
       "      <td>Female</td>\n",
       "    </tr>\n",
       "    <tr>\n",
       "      <th>1</th>\n",
       "      <td>30,000</td>\n",
       "      <td>4 years</td>\n",
       "      <td>Mortgage</td>\n",
       "      <td>71150.557520</td>\n",
       "      <td>VERIFIED - income</td>\n",
       "      <td>debt_consolidation</td>\n",
       "      <td>14.93</td>\n",
       "      <td>0</td>\n",
       "      <td>12</td>\n",
       "      <td>24</td>\n",
       "      <td>Female</td>\n",
       "    </tr>\n",
       "    <tr>\n",
       "      <th>2</th>\n",
       "      <td>24,725</td>\n",
       "      <td>7 years</td>\n",
       "      <td>Mortgage</td>\n",
       "      <td>75566.400000</td>\n",
       "      <td>VERIFIED - income source</td>\n",
       "      <td>debt_consolidation</td>\n",
       "      <td>15.88</td>\n",
       "      <td>0</td>\n",
       "      <td>12</td>\n",
       "      <td>16</td>\n",
       "      <td>Male</td>\n",
       "    </tr>\n",
       "    <tr>\n",
       "      <th>3</th>\n",
       "      <td>16,000</td>\n",
       "      <td>&lt; 1 year</td>\n",
       "      <td>NAN</td>\n",
       "      <td>56160.000000</td>\n",
       "      <td>VERIFIED - income source</td>\n",
       "      <td>debt_consolidation</td>\n",
       "      <td>14.34</td>\n",
       "      <td>3</td>\n",
       "      <td>16</td>\n",
       "      <td>22</td>\n",
       "      <td>Male</td>\n",
       "    </tr>\n",
       "    <tr>\n",
       "      <th>4</th>\n",
       "      <td>17,000</td>\n",
       "      <td>8 years</td>\n",
       "      <td>Own</td>\n",
       "      <td>96000.000000</td>\n",
       "      <td>VERIFIED - income source</td>\n",
       "      <td>debt_consolidation</td>\n",
       "      <td>22.17</td>\n",
       "      <td>1</td>\n",
       "      <td>19</td>\n",
       "      <td>30</td>\n",
       "      <td>Female</td>\n",
       "    </tr>\n",
       "    <tr>\n",
       "      <th>...</th>\n",
       "      <td>...</td>\n",
       "      <td>...</td>\n",
       "      <td>...</td>\n",
       "      <td>...</td>\n",
       "      <td>...</td>\n",
       "      <td>...</td>\n",
       "      <td>...</td>\n",
       "      <td>...</td>\n",
       "      <td>...</td>\n",
       "      <td>...</td>\n",
       "      <td>...</td>\n",
       "    </tr>\n",
       "    <tr>\n",
       "      <th>164304</th>\n",
       "      <td>20,725</td>\n",
       "      <td>10+ years</td>\n",
       "      <td>Rent</td>\n",
       "      <td>76717.304851</td>\n",
       "      <td>VERIFIED - income source</td>\n",
       "      <td>credit_card</td>\n",
       "      <td>13.56</td>\n",
       "      <td>0</td>\n",
       "      <td>13</td>\n",
       "      <td>16</td>\n",
       "      <td>Male</td>\n",
       "    </tr>\n",
       "    <tr>\n",
       "      <th>164305</th>\n",
       "      <td>6,000</td>\n",
       "      <td>8 years</td>\n",
       "      <td>Own</td>\n",
       "      <td>74645.174631</td>\n",
       "      <td>VERIFIED - income source</td>\n",
       "      <td>small_business</td>\n",
       "      <td>9.12</td>\n",
       "      <td>0</td>\n",
       "      <td>13</td>\n",
       "      <td>30</td>\n",
       "      <td>Male</td>\n",
       "    </tr>\n",
       "    <tr>\n",
       "      <th>164306</th>\n",
       "      <td>20,250</td>\n",
       "      <td>10+ years</td>\n",
       "      <td>Mortgage</td>\n",
       "      <td>76717.304851</td>\n",
       "      <td>VERIFIED - income</td>\n",
       "      <td>credit_card</td>\n",
       "      <td>18.17</td>\n",
       "      <td>1</td>\n",
       "      <td>17</td>\n",
       "      <td>30</td>\n",
       "      <td>Male</td>\n",
       "    </tr>\n",
       "    <tr>\n",
       "      <th>164307</th>\n",
       "      <td>10,000</td>\n",
       "      <td>4 years</td>\n",
       "      <td>Rent</td>\n",
       "      <td>71150.557520</td>\n",
       "      <td>not verified</td>\n",
       "      <td>major_purchase</td>\n",
       "      <td>18.75</td>\n",
       "      <td>1</td>\n",
       "      <td>16</td>\n",
       "      <td>62</td>\n",
       "      <td>Female</td>\n",
       "    </tr>\n",
       "    <tr>\n",
       "      <th>164308</th>\n",
       "      <td>9,250</td>\n",
       "      <td>10+ years</td>\n",
       "      <td>Rent</td>\n",
       "      <td>76717.304851</td>\n",
       "      <td>VERIFIED - income</td>\n",
       "      <td>credit_card</td>\n",
       "      <td>19.44</td>\n",
       "      <td>1</td>\n",
       "      <td>5</td>\n",
       "      <td>9</td>\n",
       "      <td>Female</td>\n",
       "    </tr>\n",
       "  </tbody>\n",
       "</table>\n",
       "<p>164309 rows × 11 columns</p>\n",
       "</div>"
      ],
      "text/plain": [
       "       Loan_Amount_Requested Length_Employed Home_Owner  Annual_Income  \\\n",
       "0                      7,000        < 1 year       Rent   68000.000000   \n",
       "1                     30,000         4 years   Mortgage   71150.557520   \n",
       "2                     24,725         7 years   Mortgage   75566.400000   \n",
       "3                     16,000        < 1 year        NAN   56160.000000   \n",
       "4                     17,000         8 years        Own   96000.000000   \n",
       "...                      ...             ...        ...            ...   \n",
       "164304                20,725       10+ years       Rent   76717.304851   \n",
       "164305                 6,000         8 years        Own   74645.174631   \n",
       "164306                20,250       10+ years   Mortgage   76717.304851   \n",
       "164307                10,000         4 years       Rent   71150.557520   \n",
       "164308                 9,250       10+ years       Rent   76717.304851   \n",
       "\n",
       "                 Income_Verified     Purpose_Of_Loan  Debt_To_Income  \\\n",
       "0                   not verified                 car           18.37   \n",
       "1              VERIFIED - income  debt_consolidation           14.93   \n",
       "2       VERIFIED - income source  debt_consolidation           15.88   \n",
       "3       VERIFIED - income source  debt_consolidation           14.34   \n",
       "4       VERIFIED - income source  debt_consolidation           22.17   \n",
       "...                          ...                 ...             ...   \n",
       "164304  VERIFIED - income source         credit_card           13.56   \n",
       "164305  VERIFIED - income source      small_business            9.12   \n",
       "164306         VERIFIED - income         credit_card           18.17   \n",
       "164307              not verified      major_purchase           18.75   \n",
       "164308         VERIFIED - income         credit_card           19.44   \n",
       "\n",
       "        Inquiries_Last_6Mo  Number_Open_Accounts  Total_Accounts  Gender  \n",
       "0                        0                     9              14  Female  \n",
       "1                        0                    12              24  Female  \n",
       "2                        0                    12              16    Male  \n",
       "3                        3                    16              22    Male  \n",
       "4                        1                    19              30  Female  \n",
       "...                    ...                   ...             ...     ...  \n",
       "164304                   0                    13              16    Male  \n",
       "164305                   0                    13              30    Male  \n",
       "164306                   1                    17              30    Male  \n",
       "164307                   1                    16              62  Female  \n",
       "164308                   1                     5               9  Female  \n",
       "\n",
       "[164309 rows x 11 columns]"
      ]
     },
     "execution_count": 382,
     "metadata": {},
     "output_type": "execute_result"
    }
   ],
   "source": [
    "train"
   ]
  },
  {
   "cell_type": "code",
   "execution_count": 383,
   "metadata": {},
   "outputs": [],
   "source": [
    "cat_features_index = [0,1,2,4,5,11]"
   ]
  },
  {
   "cell_type": "code",
   "execution_count": 409,
   "metadata": {},
   "outputs": [],
   "source": [
    "d_train = lgb.Dataset(x_train, label=y_train)"
   ]
  },
  {
   "cell_type": "code",
   "execution_count": 410,
   "metadata": {},
   "outputs": [],
   "source": [
    "params = {\"max_depth\": 10, \"num_leaves\": 300,  \"n_estimators\": 400}"
   ]
  },
  {
   "cell_type": "code",
   "execution_count": 411,
   "metadata": {},
   "outputs": [
    {
     "data": {
      "text/plain": [
       "lightgbm.basic.Dataset"
      ]
     },
     "execution_count": 411,
     "metadata": {},
     "output_type": "execute_result"
    }
   ],
   "source": [
    "type(d_train)"
   ]
  },
  {
   "cell_type": "code",
   "execution_count": 412,
   "metadata": {},
   "outputs": [
    {
     "name": "stderr",
     "output_type": "stream",
     "text": [
      "C:\\Users\\Hp\\.conda\\envs\\tensorflow_env\\lib\\site-packages\\lightgbm\\engine.py:151: UserWarning: Found `n_estimators` in params. Will use it instead of argument\n",
      "  warnings.warn(\"Found `{}` in params. Will use it instead of argument\".format(alias))\n",
      "C:\\Users\\Hp\\.conda\\envs\\tensorflow_env\\lib\\site-packages\\lightgbm\\basic.py:1555: UserWarning: categorical_feature in Dataset is overridden.\n",
      "New categorical_feature is [0, 1, 2, 4, 5, 11]\n",
      "  'New categorical_feature is {}'.format(sorted(list(categorical_feature))))\n"
     ]
    },
    {
     "name": "stdout",
     "output_type": "stream",
     "text": [
      "[LightGBM] [Warning] Auto-choosing row-wise multi-threading, the overhead of testing was 0.002169 seconds.\n",
      "You can set `force_row_wise=true` to remove the overhead.\n",
      "And if memory is not enough, you can set `force_col_wise=true`.\n",
      "[LightGBM] [Info] Total Bins 1626\n",
      "[LightGBM] [Info] Number of data points in the train set: 164309, number of used features: 11\n",
      "[LightGBM] [Info] Start training from score 2.158951\n",
      "[LightGBM] [Warning] No further splits with positive gain, best gain: -inf\n",
      "[LightGBM] [Warning] No further splits with positive gain, best gain: -inf\n",
      "[LightGBM] [Warning] No further splits with positive gain, best gain: -inf\n",
      "[LightGBM] [Warning] No further splits with positive gain, best gain: -inf\n",
      "[LightGBM] [Warning] No further splits with positive gain, best gain: -inf\n",
      "[LightGBM] [Warning] No further splits with positive gain, best gain: -inf\n",
      "[LightGBM] [Warning] No further splits with positive gain, best gain: -inf\n",
      "[LightGBM] [Warning] No further splits with positive gain, best gain: -inf\n",
      "[LightGBM] [Warning] No further splits with positive gain, best gain: -inf\n",
      "[LightGBM] [Warning] No further splits with positive gain, best gain: -inf\n",
      "[LightGBM] [Warning] No further splits with positive gain, best gain: -inf\n",
      "[LightGBM] [Warning] No further splits with positive gain, best gain: -inf\n",
      "[LightGBM] [Warning] No further splits with positive gain, best gain: -inf\n",
      "[LightGBM] [Warning] No further splits with positive gain, best gain: -inf\n",
      "[LightGBM] [Warning] No further splits with positive gain, best gain: -inf\n",
      "[LightGBM] [Warning] No further splits with positive gain, best gain: -inf\n",
      "[LightGBM] [Warning] No further splits with positive gain, best gain: -inf\n",
      "[LightGBM] [Warning] No further splits with positive gain, best gain: -inf\n",
      "[LightGBM] [Warning] No further splits with positive gain, best gain: -inf\n",
      "[LightGBM] [Warning] No further splits with positive gain, best gain: -inf\n",
      "[LightGBM] [Warning] No further splits with positive gain, best gain: -inf\n",
      "[LightGBM] [Warning] No further splits with positive gain, best gain: -inf\n",
      "[LightGBM] [Warning] No further splits with positive gain, best gain: -inf\n",
      "[LightGBM] [Warning] No further splits with positive gain, best gain: -inf\n",
      "[LightGBM] [Warning] No further splits with positive gain, best gain: -inf\n",
      "[LightGBM] [Warning] No further splits with positive gain, best gain: -inf\n",
      "[LightGBM] [Warning] No further splits with positive gain, best gain: -inf\n",
      "[LightGBM] [Warning] No further splits with positive gain, best gain: -inf\n",
      "[LightGBM] [Warning] No further splits with positive gain, best gain: -inf\n",
      "[LightGBM] [Warning] No further splits with positive gain, best gain: -inf\n",
      "[LightGBM] [Warning] No further splits with positive gain, best gain: -inf\n",
      "[LightGBM] [Warning] No further splits with positive gain, best gain: -inf\n",
      "[LightGBM] [Warning] No further splits with positive gain, best gain: -inf\n",
      "[LightGBM] [Warning] No further splits with positive gain, best gain: -inf\n",
      "[LightGBM] [Warning] No further splits with positive gain, best gain: -inf\n",
      "[LightGBM] [Warning] No further splits with positive gain, best gain: -inf\n",
      "[LightGBM] [Warning] No further splits with positive gain, best gain: -inf\n",
      "[LightGBM] [Warning] No further splits with positive gain, best gain: -inf\n",
      "[LightGBM] [Warning] No further splits with positive gain, best gain: -inf\n",
      "[LightGBM] [Warning] No further splits with positive gain, best gain: -inf\n",
      "[LightGBM] [Warning] No further splits with positive gain, best gain: -inf\n",
      "[LightGBM] [Warning] No further splits with positive gain, best gain: -inf\n",
      "[LightGBM] [Warning] No further splits with positive gain, best gain: -inf\n",
      "[LightGBM] [Warning] No further splits with positive gain, best gain: -inf\n",
      "[LightGBM] [Warning] No further splits with positive gain, best gain: -inf\n",
      "[LightGBM] [Warning] No further splits with positive gain, best gain: -inf\n",
      "[LightGBM] [Warning] No further splits with positive gain, best gain: -inf\n",
      "[LightGBM] [Warning] No further splits with positive gain, best gain: -inf\n",
      "[LightGBM] [Warning] No further splits with positive gain, best gain: -inf\n",
      "[LightGBM] [Warning] No further splits with positive gain, best gain: -inf\n",
      "[LightGBM] [Warning] No further splits with positive gain, best gain: -inf\n",
      "[LightGBM] [Warning] No further splits with positive gain, best gain: -inf\n",
      "[LightGBM] [Warning] No further splits with positive gain, best gain: -inf\n",
      "[LightGBM] [Warning] No further splits with positive gain, best gain: -inf\n",
      "[LightGBM] [Warning] No further splits with positive gain, best gain: -inf\n",
      "[LightGBM] [Warning] No further splits with positive gain, best gain: -inf\n",
      "[LightGBM] [Warning] No further splits with positive gain, best gain: -inf\n",
      "[LightGBM] [Warning] No further splits with positive gain, best gain: -inf\n",
      "[LightGBM] [Warning] No further splits with positive gain, best gain: -inf\n",
      "[LightGBM] [Warning] No further splits with positive gain, best gain: -inf\n",
      "[LightGBM] [Warning] No further splits with positive gain, best gain: -inf\n",
      "[LightGBM] [Warning] No further splits with positive gain, best gain: -inf\n",
      "[LightGBM] [Warning] No further splits with positive gain, best gain: -inf\n",
      "[LightGBM] [Warning] No further splits with positive gain, best gain: -inf\n",
      "[LightGBM] [Warning] No further splits with positive gain, best gain: -inf\n",
      "[LightGBM] [Warning] No further splits with positive gain, best gain: -inf\n",
      "[LightGBM] [Warning] No further splits with positive gain, best gain: -inf\n",
      "[LightGBM] [Warning] No further splits with positive gain, best gain: -inf\n",
      "[LightGBM] [Warning] No further splits with positive gain, best gain: -inf\n",
      "[LightGBM] [Warning] No further splits with positive gain, best gain: -inf\n",
      "[LightGBM] [Warning] No further splits with positive gain, best gain: -inf\n",
      "[LightGBM] [Warning] No further splits with positive gain, best gain: -inf\n",
      "[LightGBM] [Warning] No further splits with positive gain, best gain: -inf\n",
      "[LightGBM] [Warning] No further splits with positive gain, best gain: -inf\n",
      "[LightGBM] [Warning] No further splits with positive gain, best gain: -inf\n",
      "[LightGBM] [Warning] No further splits with positive gain, best gain: -inf\n",
      "[LightGBM] [Warning] No further splits with positive gain, best gain: -inf\n",
      "[LightGBM] [Warning] No further splits with positive gain, best gain: -inf\n",
      "[LightGBM] [Warning] No further splits with positive gain, best gain: -inf\n",
      "[LightGBM] [Warning] No further splits with positive gain, best gain: -inf\n",
      "[LightGBM] [Warning] No further splits with positive gain, best gain: -inf\n",
      "[LightGBM] [Warning] No further splits with positive gain, best gain: -inf\n",
      "[LightGBM] [Warning] No further splits with positive gain, best gain: -inf\n",
      "[LightGBM] [Warning] No further splits with positive gain, best gain: -inf\n",
      "[LightGBM] [Warning] No further splits with positive gain, best gain: -inf\n",
      "[LightGBM] [Warning] No further splits with positive gain, best gain: -inf\n",
      "[LightGBM] [Warning] No further splits with positive gain, best gain: -inf\n",
      "[LightGBM] [Warning] No further splits with positive gain, best gain: -inf\n",
      "[LightGBM] [Warning] No further splits with positive gain, best gain: -inf\n",
      "[LightGBM] [Warning] No further splits with positive gain, best gain: -inf\n",
      "[LightGBM] [Warning] No further splits with positive gain, best gain: -inf\n",
      "[LightGBM] [Warning] No further splits with positive gain, best gain: -inf\n",
      "[LightGBM] [Warning] No further splits with positive gain, best gain: -inf\n",
      "[LightGBM] [Warning] No further splits with positive gain, best gain: -inf\n",
      "[LightGBM] [Warning] No further splits with positive gain, best gain: -inf\n",
      "[LightGBM] [Warning] No further splits with positive gain, best gain: -inf\n",
      "[LightGBM] [Warning] No further splits with positive gain, best gain: -inf\n",
      "[LightGBM] [Warning] No further splits with positive gain, best gain: -inf\n",
      "[LightGBM] [Warning] No further splits with positive gain, best gain: -inf\n",
      "[LightGBM] [Warning] No further splits with positive gain, best gain: -inf\n",
      "[LightGBM] [Warning] No further splits with positive gain, best gain: -inf\n",
      "[LightGBM] [Warning] No further splits with positive gain, best gain: -inf\n",
      "[LightGBM] [Warning] No further splits with positive gain, best gain: -inf\n",
      "[LightGBM] [Warning] No further splits with positive gain, best gain: -inf\n",
      "[LightGBM] [Warning] No further splits with positive gain, best gain: -inf\n"
     ]
    },
    {
     "name": "stdout",
     "output_type": "stream",
     "text": [
      "[LightGBM] [Warning] No further splits with positive gain, best gain: -inf\n",
      "[LightGBM] [Warning] No further splits with positive gain, best gain: -inf\n",
      "[LightGBM] [Warning] No further splits with positive gain, best gain: -inf\n",
      "[LightGBM] [Warning] No further splits with positive gain, best gain: -inf\n",
      "[LightGBM] [Warning] No further splits with positive gain, best gain: -inf\n",
      "[LightGBM] [Warning] No further splits with positive gain, best gain: -inf\n",
      "[LightGBM] [Warning] No further splits with positive gain, best gain: -inf\n",
      "[LightGBM] [Warning] No further splits with positive gain, best gain: -inf\n",
      "[LightGBM] [Warning] No further splits with positive gain, best gain: -inf\n",
      "[LightGBM] [Warning] No further splits with positive gain, best gain: -inf\n",
      "[LightGBM] [Warning] No further splits with positive gain, best gain: -inf\n",
      "[LightGBM] [Warning] No further splits with positive gain, best gain: -inf\n",
      "[LightGBM] [Warning] No further splits with positive gain, best gain: -inf\n",
      "[LightGBM] [Warning] No further splits with positive gain, best gain: -inf\n",
      "[LightGBM] [Warning] No further splits with positive gain, best gain: -inf\n",
      "[LightGBM] [Warning] No further splits with positive gain, best gain: -inf\n",
      "[LightGBM] [Warning] No further splits with positive gain, best gain: -inf\n",
      "[LightGBM] [Warning] No further splits with positive gain, best gain: -inf\n",
      "[LightGBM] [Warning] No further splits with positive gain, best gain: -inf\n",
      "[LightGBM] [Warning] No further splits with positive gain, best gain: -inf\n",
      "[LightGBM] [Warning] No further splits with positive gain, best gain: -inf\n",
      "[LightGBM] [Warning] No further splits with positive gain, best gain: -inf\n",
      "[LightGBM] [Warning] No further splits with positive gain, best gain: -inf\n",
      "[LightGBM] [Warning] No further splits with positive gain, best gain: -inf\n",
      "[LightGBM] [Warning] No further splits with positive gain, best gain: -inf\n",
      "[LightGBM] [Warning] No further splits with positive gain, best gain: -inf\n",
      "[LightGBM] [Warning] No further splits with positive gain, best gain: -inf\n",
      "[LightGBM] [Warning] No further splits with positive gain, best gain: -inf\n",
      "[LightGBM] [Warning] No further splits with positive gain, best gain: -inf\n",
      "[LightGBM] [Warning] No further splits with positive gain, best gain: -inf\n",
      "[LightGBM] [Warning] No further splits with positive gain, best gain: -inf\n",
      "[LightGBM] [Warning] No further splits with positive gain, best gain: -inf\n",
      "[LightGBM] [Warning] No further splits with positive gain, best gain: -inf\n",
      "[LightGBM] [Warning] No further splits with positive gain, best gain: -inf\n",
      "[LightGBM] [Warning] No further splits with positive gain, best gain: -inf\n",
      "[LightGBM] [Warning] No further splits with positive gain, best gain: -inf\n",
      "[LightGBM] [Warning] No further splits with positive gain, best gain: -inf\n",
      "[LightGBM] [Warning] No further splits with positive gain, best gain: -inf\n",
      "[LightGBM] [Warning] No further splits with positive gain, best gain: -inf\n",
      "[LightGBM] [Warning] No further splits with positive gain, best gain: -inf\n",
      "[LightGBM] [Warning] No further splits with positive gain, best gain: -inf\n",
      "[LightGBM] [Warning] No further splits with positive gain, best gain: -inf\n",
      "[LightGBM] [Warning] No further splits with positive gain, best gain: -inf\n",
      "[LightGBM] [Warning] No further splits with positive gain, best gain: -inf\n",
      "[LightGBM] [Warning] No further splits with positive gain, best gain: -inf\n",
      "[LightGBM] [Warning] No further splits with positive gain, best gain: -inf\n",
      "[LightGBM] [Warning] No further splits with positive gain, best gain: -inf\n",
      "[LightGBM] [Warning] No further splits with positive gain, best gain: -inf\n",
      "[LightGBM] [Warning] No further splits with positive gain, best gain: -inf\n",
      "[LightGBM] [Warning] No further splits with positive gain, best gain: -inf\n",
      "[LightGBM] [Warning] No further splits with positive gain, best gain: -inf\n",
      "[LightGBM] [Warning] No further splits with positive gain, best gain: -inf\n",
      "[LightGBM] [Warning] No further splits with positive gain, best gain: -inf\n",
      "[LightGBM] [Warning] No further splits with positive gain, best gain: -inf\n",
      "[LightGBM] [Warning] No further splits with positive gain, best gain: -inf\n",
      "[LightGBM] [Warning] No further splits with positive gain, best gain: -inf\n",
      "[LightGBM] [Warning] No further splits with positive gain, best gain: -inf\n",
      "[LightGBM] [Warning] No further splits with positive gain, best gain: -inf\n",
      "[LightGBM] [Warning] No further splits with positive gain, best gain: -inf\n",
      "[LightGBM] [Warning] No further splits with positive gain, best gain: -inf\n",
      "[LightGBM] [Warning] No further splits with positive gain, best gain: -inf\n",
      "[LightGBM] [Warning] No further splits with positive gain, best gain: -inf\n",
      "[LightGBM] [Warning] No further splits with positive gain, best gain: -inf\n",
      "[LightGBM] [Warning] No further splits with positive gain, best gain: -inf\n",
      "[LightGBM] [Warning] No further splits with positive gain, best gain: -inf\n",
      "[LightGBM] [Warning] No further splits with positive gain, best gain: -inf\n",
      "[LightGBM] [Warning] No further splits with positive gain, best gain: -inf\n",
      "[LightGBM] [Warning] No further splits with positive gain, best gain: -inf\n",
      "[LightGBM] [Warning] No further splits with positive gain, best gain: -inf\n",
      "[LightGBM] [Warning] No further splits with positive gain, best gain: -inf\n",
      "[LightGBM] [Warning] No further splits with positive gain, best gain: -inf\n",
      "[LightGBM] [Warning] No further splits with positive gain, best gain: -inf\n",
      "[LightGBM] [Warning] No further splits with positive gain, best gain: -inf\n",
      "[LightGBM] [Warning] No further splits with positive gain, best gain: -inf\n",
      "[LightGBM] [Warning] No further splits with positive gain, best gain: -inf\n",
      "[LightGBM] [Warning] No further splits with positive gain, best gain: -inf\n",
      "[LightGBM] [Warning] No further splits with positive gain, best gain: -inf\n",
      "[LightGBM] [Warning] No further splits with positive gain, best gain: -inf\n",
      "[LightGBM] [Warning] No further splits with positive gain, best gain: -inf\n",
      "[LightGBM] [Warning] No further splits with positive gain, best gain: -inf\n",
      "[LightGBM] [Warning] No further splits with positive gain, best gain: -inf\n",
      "[LightGBM] [Warning] No further splits with positive gain, best gain: -inf\n",
      "[LightGBM] [Warning] No further splits with positive gain, best gain: -inf\n",
      "[LightGBM] [Warning] No further splits with positive gain, best gain: -inf\n",
      "[LightGBM] [Warning] No further splits with positive gain, best gain: -inf\n",
      "[LightGBM] [Warning] No further splits with positive gain, best gain: -inf\n",
      "[LightGBM] [Warning] No further splits with positive gain, best gain: -inf\n",
      "[LightGBM] [Warning] No further splits with positive gain, best gain: -inf\n",
      "[LightGBM] [Warning] No further splits with positive gain, best gain: -inf\n",
      "[LightGBM] [Warning] No further splits with positive gain, best gain: -inf\n",
      "[LightGBM] [Warning] No further splits with positive gain, best gain: -inf\n",
      "[LightGBM] [Warning] No further splits with positive gain, best gain: -inf\n",
      "[LightGBM] [Warning] No further splits with positive gain, best gain: -inf\n",
      "[LightGBM] [Warning] No further splits with positive gain, best gain: -inf\n",
      "[LightGBM] [Warning] No further splits with positive gain, best gain: -inf\n",
      "[LightGBM] [Warning] No further splits with positive gain, best gain: -inf\n",
      "[LightGBM] [Warning] No further splits with positive gain, best gain: -inf\n",
      "[LightGBM] [Warning] No further splits with positive gain, best gain: -inf\n",
      "[LightGBM] [Warning] No further splits with positive gain, best gain: -inf\n",
      "[LightGBM] [Warning] No further splits with positive gain, best gain: -inf\n",
      "[LightGBM] [Warning] No further splits with positive gain, best gain: -inf\n",
      "[LightGBM] [Warning] No further splits with positive gain, best gain: -inf\n",
      "[LightGBM] [Warning] No further splits with positive gain, best gain: -inf\n",
      "[LightGBM] [Warning] No further splits with positive gain, best gain: -inf\n",
      "[LightGBM] [Warning] No further splits with positive gain, best gain: -inf\n",
      "[LightGBM] [Warning] No further splits with positive gain, best gain: -inf\n",
      "[LightGBM] [Warning] No further splits with positive gain, best gain: -inf\n",
      "[LightGBM] [Warning] No further splits with positive gain, best gain: -inf\n",
      "[LightGBM] [Warning] No further splits with positive gain, best gain: -inf\n",
      "[LightGBM] [Warning] No further splits with positive gain, best gain: -inf\n",
      "[LightGBM] [Warning] No further splits with positive gain, best gain: -inf\n",
      "[LightGBM] [Warning] No further splits with positive gain, best gain: -inf\n",
      "[LightGBM] [Warning] No further splits with positive gain, best gain: -inf\n",
      "[LightGBM] [Warning] No further splits with positive gain, best gain: -inf\n",
      "[LightGBM] [Warning] No further splits with positive gain, best gain: -inf\n",
      "[LightGBM] [Warning] No further splits with positive gain, best gain: -inf\n"
     ]
    },
    {
     "name": "stdout",
     "output_type": "stream",
     "text": [
      "[LightGBM] [Warning] No further splits with positive gain, best gain: -inf\n",
      "[LightGBM] [Warning] No further splits with positive gain, best gain: -inf\n",
      "[LightGBM] [Warning] No further splits with positive gain, best gain: -inf\n",
      "[LightGBM] [Warning] No further splits with positive gain, best gain: -inf\n",
      "[LightGBM] [Warning] No further splits with positive gain, best gain: -inf\n",
      "[LightGBM] [Warning] No further splits with positive gain, best gain: -inf\n",
      "[LightGBM] [Warning] No further splits with positive gain, best gain: -inf\n",
      "[LightGBM] [Warning] No further splits with positive gain, best gain: -inf\n",
      "[LightGBM] [Warning] No further splits with positive gain, best gain: -inf\n",
      "[LightGBM] [Warning] No further splits with positive gain, best gain: -inf\n",
      "[LightGBM] [Warning] No further splits with positive gain, best gain: -inf\n",
      "[LightGBM] [Warning] No further splits with positive gain, best gain: -inf\n",
      "[LightGBM] [Warning] No further splits with positive gain, best gain: -inf\n",
      "[LightGBM] [Warning] No further splits with positive gain, best gain: -inf\n",
      "[LightGBM] [Warning] No further splits with positive gain, best gain: -inf\n",
      "[LightGBM] [Warning] No further splits with positive gain, best gain: -inf\n",
      "[LightGBM] [Warning] No further splits with positive gain, best gain: -inf\n",
      "[LightGBM] [Warning] No further splits with positive gain, best gain: -inf\n",
      "[LightGBM] [Warning] No further splits with positive gain, best gain: -inf\n",
      "[LightGBM] [Warning] No further splits with positive gain, best gain: -inf\n",
      "[LightGBM] [Warning] No further splits with positive gain, best gain: -inf\n",
      "[LightGBM] [Warning] No further splits with positive gain, best gain: -inf\n",
      "[LightGBM] [Warning] No further splits with positive gain, best gain: -inf\n",
      "[LightGBM] [Warning] No further splits with positive gain, best gain: -inf\n",
      "[LightGBM] [Warning] No further splits with positive gain, best gain: -inf\n",
      "[LightGBM] [Warning] No further splits with positive gain, best gain: -inf\n",
      "[LightGBM] [Warning] No further splits with positive gain, best gain: -inf\n",
      "[LightGBM] [Warning] No further splits with positive gain, best gain: -inf\n",
      "[LightGBM] [Warning] No further splits with positive gain, best gain: -inf\n",
      "[LightGBM] [Warning] No further splits with positive gain, best gain: -inf\n",
      "[LightGBM] [Warning] No further splits with positive gain, best gain: -inf\n",
      "[LightGBM] [Warning] No further splits with positive gain, best gain: -inf\n",
      "[LightGBM] [Warning] No further splits with positive gain, best gain: -inf\n",
      "[LightGBM] [Warning] No further splits with positive gain, best gain: -inf\n",
      "[LightGBM] [Warning] No further splits with positive gain, best gain: -inf\n",
      "[LightGBM] [Warning] No further splits with positive gain, best gain: -inf\n",
      "[LightGBM] [Warning] No further splits with positive gain, best gain: -inf\n",
      "[LightGBM] [Warning] No further splits with positive gain, best gain: -inf\n",
      "[LightGBM] [Warning] No further splits with positive gain, best gain: -inf\n",
      "[LightGBM] [Warning] No further splits with positive gain, best gain: -inf\n",
      "[LightGBM] [Warning] No further splits with positive gain, best gain: -inf\n",
      "[LightGBM] [Warning] No further splits with positive gain, best gain: -inf\n",
      "[LightGBM] [Warning] No further splits with positive gain, best gain: -inf\n",
      "[LightGBM] [Warning] No further splits with positive gain, best gain: -inf\n",
      "[LightGBM] [Warning] No further splits with positive gain, best gain: -inf\n",
      "[LightGBM] [Warning] No further splits with positive gain, best gain: -inf\n",
      "[LightGBM] [Warning] No further splits with positive gain, best gain: -inf\n",
      "[LightGBM] [Warning] No further splits with positive gain, best gain: -inf\n",
      "[LightGBM] [Warning] No further splits with positive gain, best gain: -inf\n",
      "[LightGBM] [Warning] No further splits with positive gain, best gain: -inf\n",
      "[LightGBM] [Warning] No further splits with positive gain, best gain: -inf\n",
      "[LightGBM] [Warning] No further splits with positive gain, best gain: -inf\n",
      "[LightGBM] [Warning] No further splits with positive gain, best gain: -inf\n",
      "[LightGBM] [Warning] No further splits with positive gain, best gain: -inf\n",
      "[LightGBM] [Warning] No further splits with positive gain, best gain: -inf\n",
      "[LightGBM] [Warning] No further splits with positive gain, best gain: -inf\n",
      "[LightGBM] [Warning] No further splits with positive gain, best gain: -inf\n",
      "[LightGBM] [Warning] No further splits with positive gain, best gain: -inf\n",
      "[LightGBM] [Warning] No further splits with positive gain, best gain: -inf\n",
      "[LightGBM] [Warning] No further splits with positive gain, best gain: -inf\n",
      "[LightGBM] [Warning] No further splits with positive gain, best gain: -inf\n",
      "[LightGBM] [Warning] No further splits with positive gain, best gain: -inf\n",
      "[LightGBM] [Warning] No further splits with positive gain, best gain: -inf\n",
      "[LightGBM] [Warning] No further splits with positive gain, best gain: -inf\n",
      "[LightGBM] [Warning] No further splits with positive gain, best gain: -inf\n",
      "[LightGBM] [Warning] No further splits with positive gain, best gain: -inf\n",
      "[LightGBM] [Warning] No further splits with positive gain, best gain: -inf\n",
      "[LightGBM] [Warning] No further splits with positive gain, best gain: -inf\n",
      "[LightGBM] [Warning] No further splits with positive gain, best gain: -inf\n",
      "[LightGBM] [Warning] No further splits with positive gain, best gain: -inf\n",
      "[LightGBM] [Warning] No further splits with positive gain, best gain: -inf\n",
      "[LightGBM] [Warning] No further splits with positive gain, best gain: -inf\n",
      "[LightGBM] [Warning] No further splits with positive gain, best gain: -inf\n",
      "[LightGBM] [Warning] No further splits with positive gain, best gain: -inf\n",
      "[LightGBM] [Warning] No further splits with positive gain, best gain: -inf\n",
      "[LightGBM] [Warning] No further splits with positive gain, best gain: -inf\n",
      "[LightGBM] [Warning] No further splits with positive gain, best gain: -inf\n",
      "[LightGBM] [Warning] No further splits with positive gain, best gain: -inf\n",
      "[LightGBM] [Warning] No further splits with positive gain, best gain: -inf\n",
      "[LightGBM] [Warning] No further splits with positive gain, best gain: -inf\n",
      "[LightGBM] [Warning] No further splits with positive gain, best gain: -inf\n",
      "[LightGBM] [Warning] No further splits with positive gain, best gain: -inf\n",
      "[LightGBM] [Warning] No further splits with positive gain, best gain: -inf\n",
      "[LightGBM] [Warning] No further splits with positive gain, best gain: -inf\n",
      "[LightGBM] [Warning] No further splits with positive gain, best gain: -inf\n",
      "[LightGBM] [Warning] No further splits with positive gain, best gain: -inf\n",
      "[LightGBM] [Warning] No further splits with positive gain, best gain: -inf\n",
      "[LightGBM] [Warning] No further splits with positive gain, best gain: -inf\n",
      "[LightGBM] [Warning] No further splits with positive gain, best gain: -inf\n",
      "[LightGBM] [Warning] No further splits with positive gain, best gain: -inf\n",
      "[LightGBM] [Warning] No further splits with positive gain, best gain: -inf\n",
      "[LightGBM] [Warning] No further splits with positive gain, best gain: -inf\n",
      "[LightGBM] [Warning] No further splits with positive gain, best gain: -inf\n",
      "[LightGBM] [Warning] No further splits with positive gain, best gain: -inf\n",
      "[LightGBM] [Warning] No further splits with positive gain, best gain: -inf\n",
      "[LightGBM] [Warning] No further splits with positive gain, best gain: -inf\n",
      "[LightGBM] [Warning] No further splits with positive gain, best gain: -inf\n",
      "[LightGBM] [Warning] No further splits with positive gain, best gain: -inf\n",
      "[LightGBM] [Warning] No further splits with positive gain, best gain: -inf\n",
      "[LightGBM] [Warning] No further splits with positive gain, best gain: -inf\n",
      "[LightGBM] [Warning] No further splits with positive gain, best gain: -inf\n",
      "[LightGBM] [Warning] No further splits with positive gain, best gain: -inf\n",
      "[LightGBM] [Warning] No further splits with positive gain, best gain: -inf\n",
      "[LightGBM] [Warning] No further splits with positive gain, best gain: -inf\n",
      "[LightGBM] [Warning] No further splits with positive gain, best gain: -inf\n",
      "[LightGBM] [Warning] No further splits with positive gain, best gain: -inf\n",
      "[LightGBM] [Warning] No further splits with positive gain, best gain: -inf\n",
      "[LightGBM] [Warning] No further splits with positive gain, best gain: -inf\n",
      "[LightGBM] [Warning] No further splits with positive gain, best gain: -inf\n",
      "[LightGBM] [Warning] No further splits with positive gain, best gain: -inf\n",
      "[LightGBM] [Warning] No further splits with positive gain, best gain: -inf\n",
      "[LightGBM] [Warning] No further splits with positive gain, best gain: -inf\n"
     ]
    },
    {
     "name": "stdout",
     "output_type": "stream",
     "text": [
      "[LightGBM] [Warning] No further splits with positive gain, best gain: -inf\n",
      "[LightGBM] [Warning] No further splits with positive gain, best gain: -inf\n",
      "[LightGBM] [Warning] No further splits with positive gain, best gain: -inf\n",
      "[LightGBM] [Warning] No further splits with positive gain, best gain: -inf\n",
      "[LightGBM] [Warning] No further splits with positive gain, best gain: -inf\n",
      "[LightGBM] [Warning] No further splits with positive gain, best gain: -inf\n",
      "[LightGBM] [Warning] No further splits with positive gain, best gain: -inf\n",
      "[LightGBM] [Warning] No further splits with positive gain, best gain: -inf\n",
      "[LightGBM] [Warning] No further splits with positive gain, best gain: -inf\n",
      "[LightGBM] [Warning] No further splits with positive gain, best gain: -inf\n",
      "[LightGBM] [Warning] No further splits with positive gain, best gain: -inf\n",
      "[LightGBM] [Warning] No further splits with positive gain, best gain: -inf\n",
      "[LightGBM] [Warning] No further splits with positive gain, best gain: -inf\n",
      "[LightGBM] [Warning] No further splits with positive gain, best gain: -inf\n",
      "[LightGBM] [Warning] No further splits with positive gain, best gain: -inf\n",
      "[LightGBM] [Warning] No further splits with positive gain, best gain: -inf\n",
      "[LightGBM] [Warning] No further splits with positive gain, best gain: -inf\n",
      "[LightGBM] [Warning] No further splits with positive gain, best gain: -inf\n",
      "[LightGBM] [Warning] No further splits with positive gain, best gain: -inf\n",
      "[LightGBM] [Warning] No further splits with positive gain, best gain: -inf\n",
      "[LightGBM] [Warning] No further splits with positive gain, best gain: -inf\n",
      "[LightGBM] [Warning] No further splits with positive gain, best gain: -inf\n",
      "[LightGBM] [Warning] No further splits with positive gain, best gain: -inf\n",
      "[LightGBM] [Warning] No further splits with positive gain, best gain: -inf\n",
      "[LightGBM] [Warning] No further splits with positive gain, best gain: -inf\n",
      "[LightGBM] [Warning] No further splits with positive gain, best gain: -inf\n",
      "[LightGBM] [Warning] No further splits with positive gain, best gain: -inf\n",
      "[LightGBM] [Warning] No further splits with positive gain, best gain: -inf\n",
      "[LightGBM] [Warning] No further splits with positive gain, best gain: -inf\n",
      "[LightGBM] [Warning] No further splits with positive gain, best gain: -inf\n",
      "[LightGBM] [Warning] No further splits with positive gain, best gain: -inf\n",
      "[LightGBM] [Warning] No further splits with positive gain, best gain: -inf\n",
      "[LightGBM] [Warning] No further splits with positive gain, best gain: -inf\n",
      "[LightGBM] [Warning] No further splits with positive gain, best gain: -inf\n",
      "[LightGBM] [Warning] No further splits with positive gain, best gain: -inf\n",
      "[LightGBM] [Warning] No further splits with positive gain, best gain: -inf\n",
      "[LightGBM] [Warning] No further splits with positive gain, best gain: -inf\n",
      "[LightGBM] [Warning] No further splits with positive gain, best gain: -inf\n",
      "[LightGBM] [Warning] No further splits with positive gain, best gain: -inf\n",
      "[LightGBM] [Warning] No further splits with positive gain, best gain: -inf\n",
      "[LightGBM] [Warning] No further splits with positive gain, best gain: -inf\n",
      "[LightGBM] [Warning] No further splits with positive gain, best gain: -inf\n",
      "[LightGBM] [Warning] No further splits with positive gain, best gain: -inf\n",
      "[LightGBM] [Warning] No further splits with positive gain, best gain: -inf\n",
      "[LightGBM] [Warning] No further splits with positive gain, best gain: -inf\n",
      "[LightGBM] [Warning] No further splits with positive gain, best gain: -inf\n",
      "[LightGBM] [Warning] No further splits with positive gain, best gain: -inf\n"
     ]
    }
   ],
   "source": [
    "model = lgb.train(params,d_train,categorical_feature=cat_features_index)"
   ]
  },
  {
   "cell_type": "code",
   "execution_count": 413,
   "metadata": {},
   "outputs": [],
   "source": [
    "y_pred = model.predict(x_test)"
   ]
  },
  {
   "cell_type": "code",
   "execution_count": 414,
   "metadata": {},
   "outputs": [],
   "source": [
    "y_pred = np.round(y_pred)"
   ]
  },
  {
   "cell_type": "code",
   "execution_count": 415,
   "metadata": {},
   "outputs": [],
   "source": [
    "y_pred = y_pred.reshape(y_pred.shape[0],1)"
   ]
  },
  {
   "cell_type": "code",
   "execution_count": 416,
   "metadata": {},
   "outputs": [],
   "source": [
    "id = pd.read_csv(\"sample_submission_HSqiq1Q.csv\")"
   ]
  },
  {
   "cell_type": "code",
   "execution_count": 417,
   "metadata": {},
   "outputs": [],
   "source": [
    "id.drop(columns=[\"Interest_Rate\"],inplace=True)"
   ]
  },
  {
   "cell_type": "code",
   "execution_count": 418,
   "metadata": {},
   "outputs": [],
   "source": [
    "y_prediction = np.hstack((id,y_pred))"
   ]
  },
  {
   "cell_type": "code",
   "execution_count": 419,
   "metadata": {},
   "outputs": [
    {
     "data": {
      "text/plain": [
       "(109541, 2)"
      ]
     },
     "execution_count": 419,
     "metadata": {},
     "output_type": "execute_result"
    }
   ],
   "source": [
    "y_prediction.shape"
   ]
  },
  {
   "cell_type": "code",
   "execution_count": 420,
   "metadata": {},
   "outputs": [],
   "source": [
    "df = pd.DataFrame(data = y_prediction,columns=[\"Loan_ID\",\"Interest_Rate\"])\n",
    "df.to_csv(\"Loan_Price_Prediction_LGBM_Categorical.csv\",index=False)"
   ]
  },
  {
   "cell_type": "markdown",
   "metadata": {},
   "source": [
    "# Normal LGBM\n"
   ]
  },
  {
   "cell_type": "code",
   "execution_count": 516,
   "metadata": {},
   "outputs": [],
   "source": [
    "\n",
    "clf = lgb.LGBMClassifier(max_depth=12,num_leaves=100,n_estimators=200)"
   ]
  },
  {
   "cell_type": "code",
   "execution_count": 517,
   "metadata": {},
   "outputs": [
    {
     "data": {
      "text/plain": [
       "LGBMClassifier(max_depth=12, n_estimators=200, num_leaves=100)"
      ]
     },
     "execution_count": 517,
     "metadata": {},
     "output_type": "execute_result"
    }
   ],
   "source": [
    "clf.fit(x_train,y_train)"
   ]
  },
  {
   "cell_type": "code",
   "execution_count": 518,
   "metadata": {},
   "outputs": [
    {
     "data": {
      "text/plain": [
       "0.624889689548351"
      ]
     },
     "execution_count": 518,
     "metadata": {},
     "output_type": "execute_result"
    }
   ],
   "source": [
    "clf.score(x_train,y_train)"
   ]
  },
  {
   "cell_type": "code",
   "execution_count": 519,
   "metadata": {},
   "outputs": [],
   "source": [
    "y_pred = clf.predict(x_test)"
   ]
  },
  {
   "cell_type": "code",
   "execution_count": 520,
   "metadata": {},
   "outputs": [
    {
     "data": {
      "text/plain": [
       "(109541,)"
      ]
     },
     "execution_count": 520,
     "metadata": {},
     "output_type": "execute_result"
    }
   ],
   "source": [
    "y_pred.shape"
   ]
  },
  {
   "cell_type": "code",
   "execution_count": 521,
   "metadata": {},
   "outputs": [],
   "source": [
    "y_pred = y_pred.reshape(y_pred.shape[0],1)"
   ]
  },
  {
   "cell_type": "code",
   "execution_count": 522,
   "metadata": {},
   "outputs": [],
   "source": [
    "id = pd.read_csv(\"sample_submission_HSqiq1Q.csv\")"
   ]
  },
  {
   "cell_type": "code",
   "execution_count": 523,
   "metadata": {},
   "outputs": [],
   "source": [
    "id.drop(columns=[\"Interest_Rate\"],inplace=True)"
   ]
  },
  {
   "cell_type": "code",
   "execution_count": 524,
   "metadata": {},
   "outputs": [],
   "source": [
    "y_prediction = np.hstack((id,y_pred))"
   ]
  },
  {
   "cell_type": "code",
   "execution_count": 525,
   "metadata": {},
   "outputs": [
    {
     "data": {
      "text/plain": [
       "(109541, 2)"
      ]
     },
     "execution_count": 525,
     "metadata": {},
     "output_type": "execute_result"
    }
   ],
   "source": [
    "y_prediction.shape"
   ]
  },
  {
   "cell_type": "code",
   "execution_count": 526,
   "metadata": {},
   "outputs": [],
   "source": [
    "df = pd.DataFrame(data = y_prediction,columns=[\"Loan_ID\",\"Interest_Rate\"])\n",
    "df.to_csv(\"Loan_Price_Prediction_LGBM.csv\",index=False)"
   ]
  },
  {
   "cell_type": "code",
   "execution_count": null,
   "metadata": {},
   "outputs": [],
   "source": []
  },
  {
   "cell_type": "code",
   "execution_count": null,
   "metadata": {},
   "outputs": [],
   "source": []
  },
  {
   "cell_type": "code",
   "execution_count": null,
   "metadata": {},
   "outputs": [],
   "source": []
  }
 ],
 "metadata": {
  "kernelspec": {
   "display_name": "Python 3",
   "language": "python",
   "name": "python3"
  },
  "language_info": {
   "codemirror_mode": {
    "name": "ipython",
    "version": 3
   },
   "file_extension": ".py",
   "mimetype": "text/x-python",
   "name": "python",
   "nbconvert_exporter": "python",
   "pygments_lexer": "ipython3",
   "version": "3.6.10"
  }
 },
 "nbformat": 4,
 "nbformat_minor": 4
}
